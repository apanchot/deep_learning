{
 "cells": [
  {
   "cell_type": "code",
   "execution_count": 60,
   "metadata": {},
   "outputs": [],
   "source": [
    "import os, shutil\n",
    "from keras import layers\n",
    "from keras import models\n",
    "from keras import optimizers\n",
    "from keras.wrappers.scikit_learn import KerasClassifier\n",
    "import math"
   ]
  },
  {
   "cell_type": "code",
   "execution_count": 61,
   "metadata": {},
   "outputs": [],
   "source": [
    "#List of categories that will be considered. The items of this list have the same name as the names of the folders \n",
    "#the images are strored in.\n",
    "\n",
    "list_categories = ['bar','bowling','buffet','casino','concert_hall','fastfood_restaurant','gameroom','gym',\n",
    "                  'hairsalon','movietheater','restaurant','airport_inside','church_inside','cloister','elevator',\n",
    "                  'florist','inside_bus','library','locker_room','museum','poolinside','prisoncell','subway',\n",
    "                   'trainstation','waitingroom']"
   ]
  },
  {
   "cell_type": "code",
   "execution_count": 62,
   "metadata": {},
   "outputs": [],
   "source": [
    "# Next we create the file structure to split the images in train, validation and test sets.\n",
    "\n",
    "\n",
    "#Where the original images are stored.\n",
    "original_dataset_dir = 'original_images'\n",
    "\n",
    "#Where we will store the images separated by train, validation and test sets.\n",
    "base_dir = 'images'\n",
    "\n",
    "os.mkdir(base_dir)\n",
    "\n",
    "train_dir = os.path.join(base_dir,'train')\n",
    "os.mkdir(train_dir)\n",
    "\n",
    "validation_dir = os.path.join(base_dir,'validation')\n",
    "os.mkdir(validation_dir)\n",
    "\n",
    "test_dir = os.path.join(base_dir,'test')\n",
    "os.mkdir(test_dir)"
   ]
  },
  {
   "cell_type": "code",
   "execution_count": 63,
   "metadata": {},
   "outputs": [],
   "source": [
    "#Inside each of the folders created peveously, we create a folder for each of the categories.\n",
    "\n",
    "for i in range(len(list_categories)):\n",
    "    os.mkdir(os.path.join(train_dir,list_categories[i]))\n",
    "    \n",
    "for i in range(len(list_categories)):\n",
    "    os.mkdir(os.path.join(validation_dir,list_categories[i]))\n",
    "    \n",
    "for i in range(len(list_categories)):\n",
    "    os.mkdir(os.path.join(test_dir,list_categories[i]))"
   ]
  },
  {
   "cell_type": "code",
   "execution_count": 64,
   "metadata": {},
   "outputs": [],
   "source": [
    "#Next we divide the images into train(60%), validation(20%) and test(20%) and copy them to the new file structure.\n",
    "\n",
    "for i in range(len(list_categories)):\n",
    "    directory = os.path.join(original_dataset_dir,list_categories[i])\n",
    "    number_of_files = sum(1 for item in os.listdir(directory) if os.path.isfile(os.path.join(directory, item)))\n",
    "    train_indice = math.ceil(number_of_files*0.6)\n",
    "    validation_indice = math.ceil(number_of_files*0.8)\n",
    "    iterator = 0\n",
    "    for file in os.listdir(directory):\n",
    "        if iterator < train_indice:\n",
    "            src = os.path.join(directory,file)\n",
    "            dst = os.path.join(train_dir,list_categories[i],file)\n",
    "            shutil.copyfile(src,dst)\n",
    "        elif iterator < validation_indice:\n",
    "            src = os.path.join(directory,file)\n",
    "            dst = os.path.join(validation_dir,list_categories[i],file)\n",
    "            shutil.copyfile(src,dst)\n",
    "        else:\n",
    "            src = os.path.join(directory,file)\n",
    "            dst = os.path.join(test_dir,list_categories[i],file)\n",
    "            shutil.copyfile(src,dst)\n",
    "        iterator += 1"
   ]
  },
  {
   "cell_type": "code",
   "execution_count": 75,
   "metadata": {},
   "outputs": [],
   "source": [
    "#Model definition\n",
    "\n",
    "def build_classifier():\n",
    "\n",
    "    model = models.Sequential()\n",
    "\n",
    "    model.add(layers.Conv2D(32, (3,3), activation='relu', input_shape=(150,150,3)))\n",
    "    model.add(layers.MaxPooling2D((2,2)))\n",
    "\n",
    "    model.add(layers.Conv2D(64, (3,3), activation='relu'))\n",
    "    model.add(layers.MaxPooling2D((2,2)))\n",
    "\n",
    "    model.add(layers.Conv2D(128, (3,3), activation='relu'))\n",
    "    model.add(layers.MaxPooling2D((2,2)))\n",
    "\n",
    "    model.add(layers.Conv2D(128, (3,3), activation='relu'))\n",
    "    model.add(layers.MaxPooling2D((2,2)))\n",
    "\n",
    "    model.add(layers.Flatten())\n",
    "    \n",
    "    model.add(layers.Dropout(0.5))\n",
    "\n",
    "    model.add(layers.Dense(512,activation='relu'))\n",
    "\n",
    "    model.add(layers.Dense(25,activation='sigmoid'))\n",
    "    \n",
    "    #Model Compilation\n",
    "    model.compile(loss='categorical_crossentropy',\n",
    "             optimizer=optimizers.RMSprop(lr=1e-4),\n",
    "             metrics=['acc'])\n",
    "    \n",
    "    return model\n",
    "\n",
    "model = build_classifier()"
   ]
  },
  {
   "cell_type": "code",
   "execution_count": 76,
   "metadata": {},
   "outputs": [
    {
     "name": "stdout",
     "output_type": "stream",
     "text": [
      "Found 3492 images belonging to 25 classes.\n",
      "Found 1163 images belonging to 25 classes.\n"
     ]
    }
   ],
   "source": [
    "#Data genaration for the training and validation steps\n",
    "\n",
    "from keras.preprocessing.image import ImageDataGenerator\n",
    "\n",
    "train_datagen = ImageDataGenerator(rescale=1./255)\n",
    "test_datagen = ImageDataGenerator(rescale=1./255)\n",
    "\n",
    "train_generator = train_datagen.flow_from_directory(\n",
    "        train_dir,\n",
    "        target_size=(150,150),\n",
    "        batch_size=20,\n",
    "        class_mode='categorical')\n",
    "\n",
    "validation_generator = train_datagen.flow_from_directory(\n",
    "        validation_dir,\n",
    "        target_size=(150,150),\n",
    "        batch_size=20,\n",
    "        class_mode='categorical')"
   ]
  },
  {
   "cell_type": "code",
   "execution_count": 77,
   "metadata": {},
   "outputs": [
    {
     "name": "stdout",
     "output_type": "stream",
     "text": [
      "data batch shape:  (20, 150, 150, 3)\n",
      "labels batch shape:  (20, 25)\n"
     ]
    }
   ],
   "source": [
    "for data_batch, labels_batch in train_generator:\n",
    "    print('data batch shape: ', data_batch.shape)\n",
    "    print('labels batch shape: ', labels_batch.shape)\n",
    "    break"
   ]
  },
  {
   "cell_type": "code",
   "execution_count": null,
   "metadata": {},
   "outputs": [],
   "source": [
    "#Fitting the model:\n",
    "\n",
    "history = model.fit_generator(\n",
    "    train_generator,\n",
    "    steps_per_epoch=150,\n",
    "    epochs=30,\n",
    "    validation_data=validation_generator,\n",
    "    validation_steps=50)"
   ]
  },
  {
   "cell_type": "code",
   "execution_count": 43,
   "metadata": {},
   "outputs": [
    {
     "name": "stdout",
     "output_type": "stream",
     "text": [
      "Found 1150 images belonging to 25 classes.\n"
     ]
    }
   ],
   "source": [
    "#Data generation for the test step:\n",
    "\n",
    "test_set = test_datagen.flow_from_directory(test_dir,\n",
    "                                            target_size = (150, 150),\n",
    "                                            batch_size = 20,\n",
    "                                            class_mode = 'categorical')"
   ]
  },
  {
   "cell_type": "code",
   "execution_count": 44,
   "metadata": {},
   "outputs": [
    {
     "data": {
      "text/plain": [
       "[5.6572418212890625, 0.26608696579933167]"
      ]
     },
     "execution_count": 44,
     "metadata": {},
     "output_type": "execute_result"
    }
   ],
   "source": [
    "#Evaluate model\n",
    "\n",
    "model.evaluate_generator(test_set,58)"
   ]
  },
  {
   "cell_type": "code",
   "execution_count": null,
   "metadata": {},
   "outputs": [],
   "source": []
  },
  {
   "cell_type": "code",
   "execution_count": 79,
   "metadata": {},
   "outputs": [
    {
     "name": "stdout",
     "output_type": "stream",
     "text": [
      "Found 3492 images belonging to 25 classes.\n",
      "Found 1163 images belonging to 25 classes.\n"
     ]
    }
   ],
   "source": [
    "#Next we will try to use the same model, but with the use of Data Augmentation:\n",
    "\n",
    "train_datagen = ImageDataGenerator(\n",
    "    rescale=1./255,\n",
    "    rotation_range=40,\n",
    "    width_shift_range=0.2,\n",
    "    height_shift_range=0.2,\n",
    "    shear_range=0.2,\n",
    "    zoom_range=0.2,\n",
    "    horizontal_flip=True,\n",
    "    fill_mode='nearest')\n",
    "\n",
    "test_datagen = ImageDataGenerator(rescale=1./255)\n",
    "\n",
    "train_generator = train_datagen.flow_from_directory(\n",
    "        train_dir,\n",
    "        target_size=(150,150),\n",
    "        batch_size=32,\n",
    "        class_mode='categorical')\n",
    "\n",
    "validation_generator = train_datagen.flow_from_directory(\n",
    "        validation_dir,\n",
    "        target_size=(150,150),\n",
    "        batch_size=32,\n",
    "        class_mode='categorical')"
   ]
  },
  {
   "cell_type": "code",
   "execution_count": 80,
   "metadata": {},
   "outputs": [
    {
     "name": "stdout",
     "output_type": "stream",
     "text": [
      "Epoch 1/100\n",
      "100/100 [==============================] - 78s 778ms/step - loss: 3.0013 - acc: 0.1151 - val_loss: 3.1245 - val_acc: 0.1203\n",
      "Epoch 2/100\n",
      "100/100 [==============================] - 86s 857ms/step - loss: 2.9022 - acc: 0.1390 - val_loss: 2.8808 - val_acc: 0.1552\n",
      "Epoch 3/100\n",
      "100/100 [==============================] - 86s 864ms/step - loss: 2.7475 - acc: 0.1750 - val_loss: 2.6228 - val_acc: 0.1842\n",
      "Epoch 4/100\n",
      "100/100 [==============================] - 87s 869ms/step - loss: 2.6883 - acc: 0.2021 - val_loss: 2.7820 - val_acc: 0.1824\n",
      "Epoch 5/100\n",
      "100/100 [==============================] - 92s 917ms/step - loss: 2.6720 - acc: 0.1988 - val_loss: 2.7341 - val_acc: 0.1913\n",
      "Epoch 6/100\n",
      "100/100 [==============================] - 112s 1s/step - loss: 2.6122 - acc: 0.2112 - val_loss: 2.4635 - val_acc: 0.2202\n",
      "Epoch 7/100\n",
      "100/100 [==============================] - 109s 1s/step - loss: 2.6025 - acc: 0.2159 - val_loss: 2.9020 - val_acc: 0.2033\n",
      "Epoch 8/100\n",
      "100/100 [==============================] - 95s 947ms/step - loss: 2.5676 - acc: 0.2169 - val_loss: 2.7148 - val_acc: 0.2077\n",
      "Epoch 9/100\n",
      "100/100 [==============================] - 97s 973ms/step - loss: 2.5279 - acc: 0.2366 - val_loss: 2.8584 - val_acc: 0.2362\n",
      "Epoch 10/100\n",
      "100/100 [==============================] - 90s 904ms/step - loss: 2.5040 - acc: 0.2412 - val_loss: 2.3889 - val_acc: 0.2407\n",
      "Epoch 11/100\n",
      "100/100 [==============================] - 109s 1s/step - loss: 2.4793 - acc: 0.2456 - val_loss: 2.5159 - val_acc: 0.2432\n",
      "Epoch 12/100\n",
      "100/100 [==============================] - 106s 1s/step - loss: 2.4608 - acc: 0.2421 - val_loss: 2.5694 - val_acc: 0.2362\n",
      "Epoch 13/100\n",
      "100/100 [==============================] - 99s 987ms/step - loss: 2.4341 - acc: 0.2591 - val_loss: 2.4242 - val_acc: 0.2375\n",
      "Epoch 14/100\n",
      "100/100 [==============================] - 98s 985ms/step - loss: 2.4251 - acc: 0.2636 - val_loss: 2.7779 - val_acc: 0.2413\n",
      "Epoch 15/100\n",
      "100/100 [==============================] - 100s 1s/step - loss: 2.4014 - acc: 0.2625 - val_loss: 2.3200 - val_acc: 0.2516\n",
      "Epoch 16/100\n",
      "100/100 [==============================] - 95s 955ms/step - loss: 2.3778 - acc: 0.2583 - val_loss: 3.1274 - val_acc: 0.2647\n",
      "Epoch 17/100\n",
      "100/100 [==============================] - 95s 952ms/step - loss: 2.3521 - acc: 0.2790 - val_loss: 2.4626 - val_acc: 0.2742\n",
      "Epoch 18/100\n",
      "100/100 [==============================] - 97s 965ms/step - loss: 2.3628 - acc: 0.2806 - val_loss: 2.4645 - val_acc: 0.2651\n",
      "Epoch 19/100\n",
      "100/100 [==============================] - 101s 1s/step - loss: 2.3468 - acc: 0.2822 - val_loss: 2.6688 - val_acc: 0.2540\n",
      "Epoch 20/100\n",
      "100/100 [==============================] - 102s 1s/step - loss: 2.3199 - acc: 0.2926 - val_loss: 2.3005 - val_acc: 0.2683\n",
      "Epoch 21/100\n",
      "100/100 [==============================] - 93s 932ms/step - loss: 2.3372 - acc: 0.2894 - val_loss: 2.4231 - val_acc: 0.2723\n",
      "Epoch 22/100\n",
      "100/100 [==============================] - 92s 917ms/step - loss: 2.3066 - acc: 0.3071 - val_loss: 2.3954 - val_acc: 0.2844\n",
      "Epoch 23/100\n",
      "100/100 [==============================] - 93s 928ms/step - loss: 2.2832 - acc: 0.2938 - val_loss: 2.8236 - val_acc: 0.2850\n",
      "Epoch 24/100\n",
      "100/100 [==============================] - 93s 927ms/step - loss: 2.2587 - acc: 0.3156 - val_loss: 2.4796 - val_acc: 0.2863\n",
      "Epoch 25/100\n",
      "100/100 [==============================] - 91s 906ms/step - loss: 2.2609 - acc: 0.3118 - val_loss: 2.3951 - val_acc: 0.2863\n",
      "Epoch 26/100\n",
      "100/100 [==============================] - 92s 923ms/step - loss: 2.2381 - acc: 0.3034 - val_loss: 2.3007 - val_acc: 0.3209\n",
      "Epoch 27/100\n",
      "100/100 [==============================] - 94s 937ms/step - loss: 2.2352 - acc: 0.3267 - val_loss: 2.2856 - val_acc: 0.3148\n",
      "Epoch 28/100\n",
      "100/100 [==============================] - 92s 917ms/step - loss: 2.1730 - acc: 0.3238 - val_loss: 2.3792 - val_acc: 0.3027\n",
      "Epoch 29/100\n",
      "100/100 [==============================] - 90s 897ms/step - loss: 2.2036 - acc: 0.3197 - val_loss: 2.2774 - val_acc: 0.3132\n",
      "Epoch 30/100\n",
      "100/100 [==============================] - 88s 879ms/step - loss: 2.1669 - acc: 0.3373 - val_loss: 2.8930 - val_acc: 0.3097\n",
      "Epoch 31/100\n",
      "100/100 [==============================] - 100s 1000ms/step - loss: 2.1610 - acc: 0.3282 - val_loss: 2.2632 - val_acc: 0.2951\n",
      "Epoch 32/100\n",
      "100/100 [==============================] - 99s 988ms/step - loss: 2.1803 - acc: 0.3235 - val_loss: 2.6275 - val_acc: 0.3036\n",
      "Epoch 33/100\n",
      "100/100 [==============================] - 97s 971ms/step - loss: 2.1894 - acc: 0.3367 - val_loss: 2.2000 - val_acc: 0.3179\n",
      "Epoch 34/100\n",
      "100/100 [==============================] - 92s 915ms/step - loss: 2.1414 - acc: 0.3376 - val_loss: 1.8361 - val_acc: 0.3179\n",
      "Epoch 35/100\n",
      "100/100 [==============================] - 93s 928ms/step - loss: 2.1283 - acc: 0.3421 - val_loss: 2.5181 - val_acc: 0.2959\n",
      "Epoch 36/100\n",
      "100/100 [==============================] - 94s 935ms/step - loss: 2.1077 - acc: 0.3556 - val_loss: 2.0642 - val_acc: 0.3401\n",
      "Epoch 37/100\n",
      "100/100 [==============================] - 97s 972ms/step - loss: 2.0959 - acc: 0.3623 - val_loss: 2.5230 - val_acc: 0.3280\n",
      "Epoch 38/100\n",
      "100/100 [==============================] - 93s 931ms/step - loss: 2.0731 - acc: 0.3516 - val_loss: 2.4397 - val_acc: 0.3148\n",
      "Epoch 39/100\n",
      "100/100 [==============================] - 92s 925ms/step - loss: 2.0807 - acc: 0.3518 - val_loss: 2.2380 - val_acc: 0.3331\n",
      "Epoch 40/100\n",
      "100/100 [==============================] - 97s 974ms/step - loss: 2.0861 - acc: 0.3594 - val_loss: 1.9365 - val_acc: 0.3235\n",
      "Epoch 41/100\n",
      "100/100 [==============================] - 91s 906ms/step - loss: 2.0370 - acc: 0.3626 - val_loss: 2.0046 - val_acc: 0.3439\n",
      "Epoch 42/100\n",
      "100/100 [==============================] - 96s 960ms/step - loss: 2.0211 - acc: 0.3759 - val_loss: 2.5382 - val_acc: 0.3300\n",
      "Epoch 43/100\n",
      "100/100 [==============================] - 93s 927ms/step - loss: 2.0445 - acc: 0.3603 - val_loss: 2.5690 - val_acc: 0.3312\n",
      "Epoch 44/100\n",
      "100/100 [==============================] - 91s 905ms/step - loss: 2.0187 - acc: 0.3827 - val_loss: 2.1377 - val_acc: 0.3154\n",
      "Epoch 45/100\n",
      "100/100 [==============================] - 92s 921ms/step - loss: 2.0031 - acc: 0.3685 - val_loss: 1.8157 - val_acc: 0.3445\n",
      "Epoch 46/100\n",
      "100/100 [==============================] - 95s 951ms/step - loss: 2.0093 - acc: 0.3726 - val_loss: 2.2705 - val_acc: 0.3280\n",
      "Epoch 47/100\n",
      "100/100 [==============================] - 107s 1s/step - loss: 1.9821 - acc: 0.3827 - val_loss: 2.4031 - val_acc: 0.3604\n",
      "Epoch 48/100\n",
      "100/100 [==============================] - 101s 1s/step - loss: 1.9799 - acc: 0.3919 - val_loss: 2.2531 - val_acc: 0.3420\n",
      "Epoch 49/100\n",
      "100/100 [==============================] - 115s 1s/step - loss: 1.9568 - acc: 0.3963 - val_loss: 2.1368 - val_acc: 0.3659\n",
      "Epoch 50/100\n",
      "100/100 [==============================] - 109s 1s/step - loss: 1.9428 - acc: 0.4069 - val_loss: 1.9822 - val_acc: 0.3452\n",
      "Epoch 51/100\n",
      "100/100 [==============================] - 100s 1s/step - loss: 1.9046 - acc: 0.4024 - val_loss: 2.1444 - val_acc: 0.3236\n",
      "Epoch 52/100\n",
      "100/100 [==============================] - 109s 1s/step - loss: 1.9387 - acc: 0.3991 - val_loss: 2.2021 - val_acc: 0.3678\n",
      "Epoch 53/100\n",
      "100/100 [==============================] - 119s 1s/step - loss: 1.9305 - acc: 0.4067 - val_loss: 1.7544 - val_acc: 0.3452\n",
      "Epoch 54/100\n",
      "100/100 [==============================] - 113s 1s/step - loss: 1.9010 - acc: 0.4116 - val_loss: 2.6419 - val_acc: 0.3654\n",
      "Epoch 55/100\n",
      "100/100 [==============================] - 97s 966ms/step - loss: 1.9032 - acc: 0.4006 - val_loss: 2.9673 - val_acc: 0.3427\n",
      "Epoch 56/100\n",
      "100/100 [==============================] - 98s 976ms/step - loss: 1.8647 - acc: 0.4187 - val_loss: 2.3161 - val_acc: 0.3540\n",
      "Epoch 57/100\n",
      "100/100 [==============================] - 100s 1s/step - loss: 1.9194 - acc: 0.3912 - val_loss: 1.5926 - val_acc: 0.3793\n",
      "Epoch 58/100\n",
      "100/100 [==============================] - 101s 1s/step - loss: 1.8634 - acc: 0.4291 - val_loss: 1.7604 - val_acc: 0.3591\n",
      "Epoch 59/100\n",
      "100/100 [==============================] - 101s 1s/step - loss: 1.8882 - acc: 0.4142 - val_loss: 1.7371 - val_acc: 0.3623\n",
      "Epoch 60/100\n",
      "100/100 [==============================] - 107s 1s/step - loss: 1.8749 - acc: 0.4178 - val_loss: 2.3072 - val_acc: 0.3736\n",
      "Epoch 61/100\n",
      "100/100 [==============================] - 99s 995ms/step - loss: 1.8595 - acc: 0.4165 - val_loss: 2.1122 - val_acc: 0.3604\n",
      "Epoch 62/100\n",
      "100/100 [==============================] - 103s 1s/step - loss: 1.8275 - acc: 0.4259 - val_loss: 1.9877 - val_acc: 0.3832\n",
      "Epoch 63/100\n",
      "100/100 [==============================] - 109s 1s/step - loss: 1.8762 - acc: 0.4051 - val_loss: 1.8789 - val_acc: 0.3517\n",
      "Epoch 64/100\n",
      "100/100 [==============================] - 108s 1s/step - loss: 1.7985 - acc: 0.4353 - val_loss: 1.8162 - val_acc: 0.3300\n",
      "Epoch 65/100\n",
      "100/100 [==============================] - 105s 1s/step - loss: 1.8280 - acc: 0.4291 - val_loss: 2.2569 - val_acc: 0.3718\n",
      "Epoch 66/100\n",
      "100/100 [==============================] - 122s 1s/step - loss: 1.8067 - acc: 0.4300 - val_loss: 2.2570 - val_acc: 0.3537\n",
      "Epoch 67/100\n",
      "100/100 [==============================] - 119s 1s/step - loss: 1.7774 - acc: 0.4357 - val_loss: 2.1585 - val_acc: 0.3838\n",
      "Epoch 68/100\n",
      "100/100 [==============================] - 108s 1s/step - loss: 1.7766 - acc: 0.4505 - val_loss: 1.7661 - val_acc: 0.3756\n",
      "Epoch 69/100\n",
      "100/100 [==============================] - 100s 1s/step - loss: 1.7841 - acc: 0.4404 - val_loss: 1.7340 - val_acc: 0.3813\n",
      "Epoch 70/100\n",
      "100/100 [==============================] - 104s 1s/step - loss: 1.8033 - acc: 0.4359 - val_loss: 2.0071 - val_acc: 0.3686\n",
      "Epoch 71/100\n",
      "100/100 [==============================] - 100s 1s/step - loss: 1.7577 - acc: 0.4545 - val_loss: 2.0672 - val_acc: 0.3686\n",
      "Epoch 72/100\n",
      "100/100 [==============================] - 108s 1s/step - loss: 1.7763 - acc: 0.4489 - val_loss: 2.9385 - val_acc: 0.3633\n",
      "Epoch 73/100\n",
      "100/100 [==============================] - 102s 1s/step - loss: 1.7212 - acc: 0.4578 - val_loss: 2.4050 - val_acc: 0.3654\n",
      "Epoch 74/100\n",
      "100/100 [==============================] - 106s 1s/step - loss: 1.7638 - acc: 0.4395 - val_loss: 2.4585 - val_acc: 0.3671\n",
      "Epoch 75/100\n",
      "100/100 [==============================] - 95s 952ms/step - loss: 1.7306 - acc: 0.4650 - val_loss: 2.1494 - val_acc: 0.3756\n",
      "Epoch 76/100\n",
      "100/100 [==============================] - 95s 948ms/step - loss: 1.7574 - acc: 0.4470 - val_loss: 2.1560 - val_acc: 0.3623\n",
      "Epoch 77/100\n",
      "100/100 [==============================] - 95s 954ms/step - loss: 1.7759 - acc: 0.4442 - val_loss: 2.3948 - val_acc: 0.3800\n",
      "Epoch 78/100\n",
      "100/100 [==============================] - 96s 962ms/step - loss: 1.7439 - acc: 0.4511 - val_loss: 1.5578 - val_acc: 0.3781\n",
      "Epoch 79/100\n",
      "100/100 [==============================] - 99s 994ms/step - loss: 1.7244 - acc: 0.4581 - val_loss: 2.1438 - val_acc: 0.3819\n",
      "Epoch 80/100\n",
      "100/100 [==============================] - 102s 1s/step - loss: 1.7268 - acc: 0.4424 - val_loss: 2.3949 - val_acc: 0.3703\n",
      "Epoch 81/100\n",
      "100/100 [==============================] - 101s 1s/step - loss: 1.7134 - acc: 0.4455 - val_loss: 1.9273 - val_acc: 0.3857\n",
      "Epoch 82/100\n",
      "100/100 [==============================] - 94s 943ms/step - loss: 1.7051 - acc: 0.4591 - val_loss: 1.8848 - val_acc: 0.3686\n",
      "Epoch 83/100\n",
      "100/100 [==============================] - 94s 937ms/step - loss: 1.6817 - acc: 0.4757 - val_loss: 1.8842 - val_acc: 0.3858\n",
      "Epoch 84/100\n",
      "100/100 [==============================] - 93s 930ms/step - loss: 1.6840 - acc: 0.4697 - val_loss: 2.2287 - val_acc: 0.3895\n",
      "Epoch 85/100\n",
      "100/100 [==============================] - 97s 970ms/step - loss: 1.6705 - acc: 0.4695 - val_loss: 2.3170 - val_acc: 0.3857\n",
      "Epoch 86/100\n",
      "100/100 [==============================] - 98s 983ms/step - loss: 1.6856 - acc: 0.4663 - val_loss: 2.0331 - val_acc: 0.3896\n",
      "Epoch 87/100\n",
      "100/100 [==============================] - 97s 966ms/step - loss: 1.6586 - acc: 0.4827 - val_loss: 2.1750 - val_acc: 0.3908\n",
      "Epoch 88/100\n",
      "100/100 [==============================] - 91s 914ms/step - loss: 1.6563 - acc: 0.4830 - val_loss: 2.6628 - val_acc: 0.3857\n",
      "Epoch 89/100\n",
      "100/100 [==============================] - 107s 1s/step - loss: 1.6670 - acc: 0.4716 - val_loss: 1.6054 - val_acc: 0.3736\n",
      "Epoch 90/100\n",
      "100/100 [==============================] - 92s 915ms/step - loss: 1.6697 - acc: 0.4770 - val_loss: 2.4549 - val_acc: 0.3407\n",
      "Epoch 91/100\n",
      "100/100 [==============================] - 92s 916ms/step - loss: 1.6364 - acc: 0.4864 - val_loss: 1.7249 - val_acc: 0.4034\n",
      "Epoch 92/100\n",
      "100/100 [==============================] - 94s 940ms/step - loss: 1.6481 - acc: 0.4706 - val_loss: 1.9633 - val_acc: 0.3723\n",
      "Epoch 93/100\n",
      "100/100 [==============================] - 92s 923ms/step - loss: 1.6388 - acc: 0.4790 - val_loss: 2.5170 - val_acc: 0.3781\n",
      "Epoch 94/100\n",
      "100/100 [==============================] - 93s 930ms/step - loss: 1.5972 - acc: 0.5032 - val_loss: 2.1887 - val_acc: 0.3768\n",
      "Epoch 95/100\n",
      "100/100 [==============================] - 94s 943ms/step - loss: 1.5917 - acc: 0.4919 - val_loss: 1.7180 - val_acc: 0.4110\n",
      "Epoch 96/100\n",
      "100/100 [==============================] - 95s 953ms/step - loss: 1.6056 - acc: 0.4909 - val_loss: 2.4276 - val_acc: 0.3844\n",
      "Epoch 97/100\n",
      "100/100 [==============================] - 89s 892ms/step - loss: 1.6222 - acc: 0.4978 - val_loss: 1.9244 - val_acc: 0.4082\n",
      "Epoch 98/100\n",
      "100/100 [==============================] - 89s 892ms/step - loss: 1.5922 - acc: 0.4991 - val_loss: 1.9194 - val_acc: 0.3844\n",
      "Epoch 99/100\n",
      "100/100 [==============================] - 92s 924ms/step - loss: 1.5835 - acc: 0.4965 - val_loss: 2.1231 - val_acc: 0.3914\n",
      "Epoch 100/100\n",
      "100/100 [==============================] - 96s 955ms/step - loss: 1.5848 - acc: 0.5022 - val_loss: 1.8170 - val_acc: 0.3896\n"
     ]
    }
   ],
   "source": [
    "#Fitting the model:\n",
    "\n",
    "history = model.fit_generator(\n",
    "    train_generator,\n",
    "    steps_per_epoch=100,\n",
    "    epochs=100,\n",
    "    validation_data=validation_generator,\n",
    "    validation_steps=50)"
   ]
  },
  {
   "cell_type": "code",
   "execution_count": 81,
   "metadata": {},
   "outputs": [
    {
     "name": "stdout",
     "output_type": "stream",
     "text": [
      "Found 1150 images belonging to 25 classes.\n"
     ]
    }
   ],
   "source": [
    "#Data generation for the test step:\n",
    "\n",
    "test_set = test_datagen.flow_from_directory(test_dir,\n",
    "                                            target_size = (150, 150),\n",
    "                                            batch_size = 20,\n",
    "                                            class_mode = 'categorical')"
   ]
  },
  {
   "cell_type": "code",
   "execution_count": 82,
   "metadata": {},
   "outputs": [
    {
     "data": {
      "text/plain": [
       "[1.7866178750991821, 0.4182608723640442]"
      ]
     },
     "execution_count": 82,
     "metadata": {},
     "output_type": "execute_result"
    }
   ],
   "source": [
    "#Evaluate model\n",
    "\n",
    "model.evaluate_generator(test_set,58)"
   ]
  },
  {
   "cell_type": "code",
   "execution_count": null,
   "metadata": {},
   "outputs": [],
   "source": []
  },
  {
   "cell_type": "code",
   "execution_count": null,
   "metadata": {},
   "outputs": [],
   "source": []
  },
  {
   "cell_type": "code",
   "execution_count": null,
   "metadata": {},
   "outputs": [],
   "source": []
  }
 ],
 "metadata": {
  "kernelspec": {
   "display_name": "Python 3",
   "language": "python",
   "name": "python3"
  },
  "language_info": {
   "codemirror_mode": {
    "name": "ipython",
    "version": 3
   },
   "file_extension": ".py",
   "mimetype": "text/x-python",
   "name": "python",
   "nbconvert_exporter": "python",
   "pygments_lexer": "ipython3",
   "version": "3.7.7"
  }
 },
 "nbformat": 4,
 "nbformat_minor": 4
}
