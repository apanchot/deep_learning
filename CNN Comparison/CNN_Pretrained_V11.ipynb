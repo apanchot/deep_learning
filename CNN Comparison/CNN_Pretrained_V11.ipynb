{
 "cells": [
  {
   "cell_type": "code",
   "execution_count": 0,
   "metadata": {
    "colab": {},
    "colab_type": "code",
    "id": "iQspA0sdt_tW"
   },
   "outputs": [],
   "source": [
    "# import the necessary packages\n",
    "from tensorflow.keras.preprocessing.image import ImageDataGenerator\n",
    "from tensorflow.keras.applications import MobileNetV2\n",
    "from tensorflow.keras.layers import AveragePooling2D\n",
    "from tensorflow.keras.layers import MaxPooling2D\n",
    "from tensorflow.keras.layers import Dropout\n",
    "from tensorflow.keras.layers import Flatten\n",
    "from tensorflow.keras.layers import Dense\n",
    "from tensorflow.keras.layers import Input\n",
    "from tensorflow.keras.models import Model\n",
    "from tensorflow.keras.optimizers import Adam\n",
    "from tensorflow.keras.applications.mobilenet_v2 import preprocess_input\n",
    "from tensorflow.keras.preprocessing.image import img_to_array\n",
    "from tensorflow.keras.preprocessing.image import load_img\n",
    "from tensorflow.keras.utils import to_categorical\n",
    "from sklearn.preprocessing import LabelEncoder\n",
    "from sklearn.model_selection import train_test_split\n",
    "from sklearn.metrics import classification_report\n",
    "from imutils import paths\n",
    "from tqdm import tqdm\n",
    "import matplotlib.pyplot as plt\n",
    "import numpy as np\n",
    "import os\n",
    "import pickle"
   ]
  },
  {
   "cell_type": "code",
   "execution_count": 2,
   "metadata": {
    "colab": {
     "base_uri": "https://localhost:8080/",
     "height": 124
    },
    "colab_type": "code",
    "executionInfo": {
     "elapsed": 66091,
     "status": "ok",
     "timestamp": 1591627932747,
     "user": {
      "displayName": "Leo Lannes",
      "photoUrl": "",
      "userId": "07944742584050859094"
     },
     "user_tz": -60
    },
    "id": "w0iTWuUZv3Nf",
    "outputId": "7dc3c293-0f96-4743-af31-a294b21e5d44"
   },
   "outputs": [
    {
     "name": "stdout",
     "output_type": "stream",
     "text": [
      "Go to this URL in a browser: https://accounts.google.com/o/oauth2/auth?client_id=947318989803-6bn6qk8qdgf4n4g3pfee6491hc0brc4i.apps.googleusercontent.com&redirect_uri=urn%3aietf%3awg%3aoauth%3a2.0%3aoob&response_type=code&scope=email%20https%3a%2f%2fwww.googleapis.com%2fauth%2fdocs.test%20https%3a%2f%2fwww.googleapis.com%2fauth%2fdrive%20https%3a%2f%2fwww.googleapis.com%2fauth%2fdrive.photos.readonly%20https%3a%2f%2fwww.googleapis.com%2fauth%2fpeopleapi.readonly\n",
      "\n",
      "Enter your authorization code:\n",
      "··········\n",
      "Mounted at /drive\n"
     ]
    }
   ],
   "source": [
    "from google.colab import drive\n",
    "drive.mount('/drive')"
   ]
  },
  {
   "cell_type": "code",
   "execution_count": 0,
   "metadata": {
    "colab": {},
    "colab_type": "code",
    "id": "7c57-t_kwc4-"
   },
   "outputs": [],
   "source": [
    "imagePaths = list(paths.list_images('/drive/My Drive/AAA_Data Science/Semestre 2/T2 - Deep Learning/deep_learning/Group_Project/original_images'))\n",
    "data = []\n",
    "labels = []"
   ]
  },
  {
   "cell_type": "code",
   "execution_count": 4,
   "metadata": {
    "colab": {
     "base_uri": "https://localhost:8080/",
     "height": 35
    },
    "colab_type": "code",
    "executionInfo": {
     "elapsed": 4238718,
     "status": "ok",
     "timestamp": 1591632105412,
     "user": {
      "displayName": "Leo Lannes",
      "photoUrl": "",
      "userId": "07944742584050859094"
     },
     "user_tz": -60
    },
    "id": "7UkXj8vTw_8o",
    "outputId": "e13c4eaa-2db5-4700-e101-70ddc3bfc1b3"
   },
   "outputs": [
    {
     "name": "stderr",
     "output_type": "stream",
     "text": [
      "100%|██████████| 5805/5805 [1:09:08<00:00,  1.40it/s]\n"
     ]
    }
   ],
   "source": [
    "# loop over the image paths\n",
    "for imagePath in tqdm(imagePaths):\n",
    "\t# extract the class label from the filename\n",
    "\tlabel = imagePath.split(os.path.sep)[-2]\n",
    "\n",
    "\t# load the input image (224x224) and preprocess it\n",
    "\timage = load_img(imagePath, target_size=(224, 224))\n",
    "\timage = img_to_array(image)\n",
    "\timage = preprocess_input(image)\n",
    "\n",
    "\t# update the data and labels lists, respectively\n",
    "\tdata.append(image)\n",
    "\tlabels.append(label)"
   ]
  },
  {
   "cell_type": "code",
   "execution_count": 0,
   "metadata": {
    "colab": {},
    "colab_type": "code",
    "id": "MbuQrEyMGzWE"
   },
   "outputs": [],
   "source": [
    "# convert the data and labels to NumPy arrays\n",
    "data = np.array(data, dtype=\"float32\")\n",
    "labels = np.array(labels)"
   ]
  },
  {
   "cell_type": "code",
   "execution_count": 0,
   "metadata": {
    "colab": {},
    "colab_type": "code",
    "id": "xw7HL33h0Nt7"
   },
   "outputs": [],
   "source": [
    "# # Saving data and labels as a pkl file\n",
    "pickle.dump(data, open(\"/drive/My Drive/Colab Notebooks/data.pkl\", \"wb\"))\n",
    "pickle.dump(labels, open(\"/drive/My Drive/Colab Notebooks/labels.pkl\", \"wb\"))"
   ]
  },
  {
   "cell_type": "code",
   "execution_count": 0,
   "metadata": {
    "colab": {},
    "colab_type": "code",
    "id": "ASCunlr52x-Y"
   },
   "outputs": [],
   "source": [
    "# data = pickle.load(open(\"/drive/My Drive/Colab Notebooks/data.pkl\", \"rb\"))\n",
    "# labels = pickle.load(open(\"/drive/My Drive/Colab Notebooks/labels.pkl\", \"rb\"))"
   ]
  },
  {
   "cell_type": "code",
   "execution_count": 0,
   "metadata": {
    "colab": {},
    "colab_type": "code",
    "id": "3G6W6Iq6NnxK"
   },
   "outputs": [],
   "source": [
    "# perform one-hot encoding on the labels\n",
    "lb = LabelEncoder()\n",
    "labels = lb.fit_transform(labels)\n",
    "labels = to_categorical(labels)"
   ]
  },
  {
   "cell_type": "code",
   "execution_count": 0,
   "metadata": {
    "colab": {},
    "colab_type": "code",
    "id": "nOp1niJ6N6XY"
   },
   "outputs": [],
   "source": [
    "# partition the data into training(60%),validation(20%) and testing(20%)\n",
    "(trainX, testX, trainY, testY) = train_test_split(data, labels,test_size=0.20, stratify=labels, random_state=42)\n",
    "(trainX, validationX, trainY, validationY) = train_test_split(trainX, trainY,test_size=0.25, stratify=trainY, random_state=42)"
   ]
  },
  {
   "cell_type": "code",
   "execution_count": 0,
   "metadata": {
    "colab": {},
    "colab_type": "code",
    "id": "ERorl_TrVMMR"
   },
   "outputs": [],
   "source": []
  },
  {
   "cell_type": "code",
   "execution_count": 0,
   "metadata": {
    "colab": {},
    "colab_type": "code",
    "id": "BxKdoL-0P3J8"
   },
   "outputs": [],
   "source": [
    "# construct the training image generator for data augmentation\n",
    "aug = ImageDataGenerator(\n",
    "\trotation_range=40,\n",
    "\tzoom_range=0.20,\n",
    "\twidth_shift_range=0.2,\n",
    "\theight_shift_range=0.2,\n",
    "\tshear_range=0.20,\n",
    "\thorizontal_flip=True,\n",
    "\tfill_mode=\"nearest\")"
   ]
  },
  {
   "cell_type": "code",
   "execution_count": 113,
   "metadata": {
    "colab": {
     "base_uri": "https://localhost:8080/",
     "height": 55
    },
    "colab_type": "code",
    "executionInfo": {
     "elapsed": 4898,
     "status": "ok",
     "timestamp": 1591643646899,
     "user": {
      "displayName": "Leo Lannes",
      "photoUrl": "",
      "userId": "07944742584050859094"
     },
     "user_tz": -60
    },
    "id": "ZDdU-pHrRY_L",
    "outputId": "2c72ab96-75ba-4299-fc36-e8ccca46c1b4"
   },
   "outputs": [
    {
     "name": "stdout",
     "output_type": "stream",
     "text": [
      "WARNING:tensorflow:`input_shape` is undefined or non-square, or `rows` is not in [96, 128, 160, 192, 224]. Weights for input shape (224, 224) will be loaded as the default.\n"
     ]
    }
   ],
   "source": [
    "# load the MobileNetV2 network, ensuring the head FC layer sets are\n",
    "# left off\n",
    "baseModel = MobileNetV2(weights=\"imagenet\", include_top=False, input_tensor=Input(shape=(224, 224, 3)))"
   ]
  },
  {
   "cell_type": "code",
   "execution_count": 0,
   "metadata": {
    "colab": {},
    "colab_type": "code",
    "id": "nKrdmBdEYPB5"
   },
   "outputs": [],
   "source": [
    "# loop over the layers in the base model and freeze them. Now, I'm unfreezing the last 8 layers.\n",
    "for layer in baseModel.layers[:-8]: \n",
    "\tlayer.trainable = False"
   ]
  },
  {
   "cell_type": "code",
   "execution_count": 0,
   "metadata": {
    "colab": {},
    "colab_type": "code",
    "id": "LabjctKiRbiy"
   },
   "outputs": [],
   "source": [
    "# construct the head of the model that will be placed on top of the\n",
    "# the base model\n",
    "headModel = baseModel.output\n",
    "headModel = AveragePooling2D(pool_size=(2, 2))(headModel)\n",
    "headModel = Flatten(name=\"flatten\")(headModel)\n",
    "headModel = Dense(512, activation=\"relu\")(headModel) # apagar\n",
    "headModel = Dropout(0.5)(headModel)\n",
    "headModel = Dense(25, activation=\"softmax\")(headModel)"
   ]
  },
  {
   "cell_type": "code",
   "execution_count": 0,
   "metadata": {
    "colab": {},
    "colab_type": "code",
    "id": "jTk3gaLhYPCB"
   },
   "outputs": [],
   "source": [
    "# initialize the initial learning rate, number of epochs to train for,\n",
    "# and batch size\n",
    "INIT_LR = 1e-4\n",
    "EPOCHS = 20\n",
    "BS = 20"
   ]
  },
  {
   "cell_type": "code",
   "execution_count": 0,
   "metadata": {
    "colab": {},
    "colab_type": "code",
    "id": "jc0Tqa0FYPCF"
   },
   "outputs": [],
   "source": [
    "# place the head FC model on top of the base model (this will become\n",
    "# the actual model we will train)\n",
    "model = Model(inputs=baseModel.input, outputs=headModel)"
   ]
  },
  {
   "cell_type": "code",
   "execution_count": 0,
   "metadata": {
    "colab": {},
    "colab_type": "code",
    "id": "Jqn678rpRyAq"
   },
   "outputs": [],
   "source": [
    "# compile our model\n",
    "opt = Adam(lr=INIT_LR, decay=INIT_LR / EPOCHS)\n",
    "model.compile(loss=\"categorical_crossentropy\", optimizer=opt, metrics=[\"accuracy\"])"
   ]
  },
  {
   "cell_type": "code",
   "execution_count": 119,
   "metadata": {
    "colab": {
     "base_uri": "https://localhost:8080/",
     "height": 1000
    },
    "colab_type": "code",
    "executionInfo": {
     "elapsed": 894640,
     "status": "ok",
     "timestamp": 1591644536688,
     "user": {
      "displayName": "Leo Lannes",
      "photoUrl": "",
      "userId": "07944742584050859094"
     },
     "user_tz": -60
    },
    "id": "ajjN3hiYR15i",
    "outputId": "76a6831a-9e0a-44a0-f538-667804c46929"
   },
   "outputs": [
    {
     "name": "stdout",
     "output_type": "stream",
     "text": [
      "Epoch 1/20\n",
      "174/174 [==============================] - ETA: 0s - loss: 2.6812 - accuracy: 0.2749WARNING:tensorflow:Your input ran out of data; interrupting training. Make sure that your dataset or generator can generate at least `steps_per_epoch * epochs` batches (in this case, 58 batches). You may need to use the repeat() function when building your dataset.\n",
      "174/174 [==============================] - 46s 262ms/step - loss: 2.6812 - accuracy: 0.2749 - val_loss: 1.6772 - val_accuracy: 0.5228\n",
      "Epoch 2/20\n",
      "174/174 [==============================] - ETA: 0s - loss: 1.7167 - accuracy: 0.4892WARNING:tensorflow:Your input ran out of data; interrupting training. Make sure that your dataset or generator can generate at least `steps_per_epoch * epochs` batches (in this case, 58 batches). You may need to use the repeat() function when building your dataset.\n",
      "174/174 [==============================] - 44s 255ms/step - loss: 1.7167 - accuracy: 0.4892 - val_loss: 1.5369 - val_accuracy: 0.6047\n",
      "Epoch 3/20\n",
      "174/174 [==============================] - ETA: 0s - loss: 1.3857 - accuracy: 0.5845WARNING:tensorflow:Your input ran out of data; interrupting training. Make sure that your dataset or generator can generate at least `steps_per_epoch * epochs` batches (in this case, 58 batches). You may need to use the repeat() function when building your dataset.\n",
      "174/174 [==============================] - 45s 256ms/step - loss: 1.3857 - accuracy: 0.5845 - val_loss: 1.5617 - val_accuracy: 0.6339\n",
      "Epoch 4/20\n",
      "174/174 [==============================] - ETA: 0s - loss: 1.2188 - accuracy: 0.6307WARNING:tensorflow:Your input ran out of data; interrupting training. Make sure that your dataset or generator can generate at least `steps_per_epoch * epochs` batches (in this case, 58 batches). You may need to use the repeat() function when building your dataset.\n",
      "174/174 [==============================] - 45s 256ms/step - loss: 1.2188 - accuracy: 0.6307 - val_loss: 1.0822 - val_accuracy: 0.7132\n",
      "Epoch 5/20\n",
      "174/174 [==============================] - ETA: 0s - loss: 1.0733 - accuracy: 0.6665WARNING:tensorflow:Your input ran out of data; interrupting training. Make sure that your dataset or generator can generate at least `steps_per_epoch * epochs` batches (in this case, 58 batches). You may need to use the repeat() function when building your dataset.\n",
      "174/174 [==============================] - 45s 258ms/step - loss: 1.0733 - accuracy: 0.6665 - val_loss: 1.1796 - val_accuracy: 0.7054\n",
      "Epoch 6/20\n",
      "174/174 [==============================] - ETA: 0s - loss: 0.9744 - accuracy: 0.6965WARNING:tensorflow:Your input ran out of data; interrupting training. Make sure that your dataset or generator can generate at least `steps_per_epoch * epochs` batches (in this case, 58 batches). You may need to use the repeat() function when building your dataset.\n",
      "174/174 [==============================] - 45s 256ms/step - loss: 0.9744 - accuracy: 0.6965 - val_loss: 0.9976 - val_accuracy: 0.7339\n",
      "Epoch 7/20\n",
      "174/174 [==============================] - ETA: 0s - loss: 0.8878 - accuracy: 0.7225WARNING:tensorflow:Your input ran out of data; interrupting training. Make sure that your dataset or generator can generate at least `steps_per_epoch * epochs` batches (in this case, 58 batches). You may need to use the repeat() function when building your dataset.\n",
      "174/174 [==============================] - 44s 254ms/step - loss: 0.8878 - accuracy: 0.7225 - val_loss: 1.1087 - val_accuracy: 0.7416\n",
      "Epoch 8/20\n",
      "174/174 [==============================] - ETA: 0s - loss: 0.8553 - accuracy: 0.7372WARNING:tensorflow:Your input ran out of data; interrupting training. Make sure that your dataset or generator can generate at least `steps_per_epoch * epochs` batches (in this case, 58 batches). You may need to use the repeat() function when building your dataset.\n",
      "174/174 [==============================] - 44s 255ms/step - loss: 0.8553 - accuracy: 0.7372 - val_loss: 1.2068 - val_accuracy: 0.7321\n",
      "Epoch 9/20\n",
      "174/174 [==============================] - ETA: 0s - loss: 0.7739 - accuracy: 0.7508WARNING:tensorflow:Your input ran out of data; interrupting training. Make sure that your dataset or generator can generate at least `steps_per_epoch * epochs` batches (in this case, 58 batches). You may need to use the repeat() function when building your dataset.\n",
      "174/174 [==============================] - 44s 254ms/step - loss: 0.7739 - accuracy: 0.7508 - val_loss: 1.1833 - val_accuracy: 0.7356\n",
      "Epoch 10/20\n",
      "174/174 [==============================] - ETA: 0s - loss: 0.7144 - accuracy: 0.7782WARNING:tensorflow:Your input ran out of data; interrupting training. Make sure that your dataset or generator can generate at least `steps_per_epoch * epochs` batches (in this case, 58 batches). You may need to use the repeat() function when building your dataset.\n",
      "174/174 [==============================] - 44s 254ms/step - loss: 0.7144 - accuracy: 0.7782 - val_loss: 1.0845 - val_accuracy: 0.7373\n",
      "Epoch 11/20\n",
      "174/174 [==============================] - ETA: 0s - loss: 0.6740 - accuracy: 0.7918WARNING:tensorflow:Your input ran out of data; interrupting training. Make sure that your dataset or generator can generate at least `steps_per_epoch * epochs` batches (in this case, 58 batches). You may need to use the repeat() function when building your dataset.\n",
      "174/174 [==============================] - 44s 254ms/step - loss: 0.6740 - accuracy: 0.7918 - val_loss: 1.1790 - val_accuracy: 0.7313\n",
      "Epoch 12/20\n",
      "174/174 [==============================] - ETA: 0s - loss: 0.5992 - accuracy: 0.8045WARNING:tensorflow:Your input ran out of data; interrupting training. Make sure that your dataset or generator can generate at least `steps_per_epoch * epochs` batches (in this case, 58 batches). You may need to use the repeat() function when building your dataset.\n",
      "174/174 [==============================] - 44s 253ms/step - loss: 0.5992 - accuracy: 0.8045 - val_loss: 1.0713 - val_accuracy: 0.7511\n",
      "Epoch 13/20\n",
      "174/174 [==============================] - ETA: 0s - loss: 0.5660 - accuracy: 0.8155WARNING:tensorflow:Your input ran out of data; interrupting training. Make sure that your dataset or generator can generate at least `steps_per_epoch * epochs` batches (in this case, 58 batches). You may need to use the repeat() function when building your dataset.\n",
      "174/174 [==============================] - 44s 251ms/step - loss: 0.5660 - accuracy: 0.8155 - val_loss: 1.0725 - val_accuracy: 0.7502\n",
      "Epoch 14/20\n",
      "174/174 [==============================] - ETA: 0s - loss: 0.5741 - accuracy: 0.8120WARNING:tensorflow:Your input ran out of data; interrupting training. Make sure that your dataset or generator can generate at least `steps_per_epoch * epochs` batches (in this case, 58 batches). You may need to use the repeat() function when building your dataset.\n",
      "174/174 [==============================] - 44s 250ms/step - loss: 0.5741 - accuracy: 0.8120 - val_loss: 1.0316 - val_accuracy: 0.7519\n",
      "Epoch 15/20\n",
      "174/174 [==============================] - ETA: 0s - loss: 0.5579 - accuracy: 0.8152WARNING:tensorflow:Your input ran out of data; interrupting training. Make sure that your dataset or generator can generate at least `steps_per_epoch * epochs` batches (in this case, 58 batches). You may need to use the repeat() function when building your dataset.\n",
      "174/174 [==============================] - 44s 252ms/step - loss: 0.5579 - accuracy: 0.8152 - val_loss: 1.0304 - val_accuracy: 0.7562\n",
      "Epoch 16/20\n",
      "174/174 [==============================] - ETA: 0s - loss: 0.5262 - accuracy: 0.8322WARNING:tensorflow:Your input ran out of data; interrupting training. Make sure that your dataset or generator can generate at least `steps_per_epoch * epochs` batches (in this case, 58 batches). You may need to use the repeat() function when building your dataset.\n",
      "174/174 [==============================] - 43s 249ms/step - loss: 0.5262 - accuracy: 0.8322 - val_loss: 1.0155 - val_accuracy: 0.7494\n",
      "Epoch 17/20\n",
      "174/174 [==============================] - ETA: 0s - loss: 0.4868 - accuracy: 0.8415WARNING:tensorflow:Your input ran out of data; interrupting training. Make sure that your dataset or generator can generate at least `steps_per_epoch * epochs` batches (in this case, 58 batches). You may need to use the repeat() function when building your dataset.\n",
      "174/174 [==============================] - 43s 249ms/step - loss: 0.4868 - accuracy: 0.8415 - val_loss: 1.0689 - val_accuracy: 0.7459\n",
      "Epoch 18/20\n",
      "174/174 [==============================] - ETA: 0s - loss: 0.4812 - accuracy: 0.8420WARNING:tensorflow:Your input ran out of data; interrupting training. Make sure that your dataset or generator can generate at least `steps_per_epoch * epochs` batches (in this case, 58 batches). You may need to use the repeat() function when building your dataset.\n",
      "174/174 [==============================] - 43s 248ms/step - loss: 0.4812 - accuracy: 0.8420 - val_loss: 1.0285 - val_accuracy: 0.7494\n",
      "Epoch 19/20\n",
      "174/174 [==============================] - ETA: 0s - loss: 0.4238 - accuracy: 0.8611WARNING:tensorflow:Your input ran out of data; interrupting training. Make sure that your dataset or generator can generate at least `steps_per_epoch * epochs` batches (in this case, 58 batches). You may need to use the repeat() function when building your dataset.\n",
      "174/174 [==============================] - 43s 248ms/step - loss: 0.4238 - accuracy: 0.8611 - val_loss: 1.0700 - val_accuracy: 0.7511\n",
      "Epoch 20/20\n",
      "174/174 [==============================] - ETA: 0s - loss: 0.4235 - accuracy: 0.8677WARNING:tensorflow:Your input ran out of data; interrupting training. Make sure that your dataset or generator can generate at least `steps_per_epoch * epochs` batches (in this case, 58 batches). You may need to use the repeat() function when building your dataset.\n",
      "174/174 [==============================] - 43s 246ms/step - loss: 0.4235 - accuracy: 0.8677 - val_loss: 1.1070 - val_accuracy: 0.7519\n"
     ]
    }
   ],
   "source": [
    "# train the head of the network\n",
    "history = model.fit(\n",
    "\taug.flow(trainX, trainY, batch_size=BS),\n",
    "\tsteps_per_epoch=len(trainX) // BS,\n",
    "\tvalidation_data=(validationX, validationY),\n",
    "\tvalidation_steps=len(validationX) // BS,\n",
    "\tepochs=EPOCHS)"
   ]
  },
  {
   "cell_type": "code",
   "execution_count": 0,
   "metadata": {
    "colab": {},
    "colab_type": "code",
    "id": "FprQ0dJVSTFD"
   },
   "outputs": [],
   "source": [
    "# make predictions on the testing set\n",
    "predictions = model.predict(testX, batch_size=BS)"
   ]
  },
  {
   "cell_type": "code",
   "execution_count": 0,
   "metadata": {
    "colab": {},
    "colab_type": "code",
    "id": "_zhm3mcwnBxH"
   },
   "outputs": [],
   "source": [
    "# for each image in the testing set we need to find the index of the\n",
    "# label with corresponding largest predicted probability\n",
    "predictions = np.argmax(predictions, axis=1)"
   ]
  },
  {
   "cell_type": "code",
   "execution_count": 122,
   "metadata": {
    "colab": {
     "base_uri": "https://localhost:8080/",
     "height": 572
    },
    "colab_type": "code",
    "executionInfo": {
     "elapsed": 898006,
     "status": "ok",
     "timestamp": 1591644540077,
     "user": {
      "displayName": "Leo Lannes",
      "photoUrl": "",
      "userId": "07944742584050859094"
     },
     "user_tz": -60
    },
    "id": "MFxPnxZUnCEu",
    "outputId": "7681ff66-2071-4ae7-97a2-faeab5738657"
   },
   "outputs": [
    {
     "name": "stdout",
     "output_type": "stream",
     "text": [
      "                     precision    recall  f1-score   support\n",
      "\n",
      "     airport_inside       0.71      0.79      0.74       122\n",
      "                bar       0.62      0.90      0.73       121\n",
      "            bowling       0.97      0.81      0.89        43\n",
      "             buffet       1.00      0.91      0.95        22\n",
      "             casino       0.85      0.93      0.89       103\n",
      "      church_inside       0.94      0.89      0.91        36\n",
      "           cloister       0.84      0.88      0.86        24\n",
      "       concert_hall       0.75      0.57      0.65        21\n",
      "           elevator       0.85      0.85      0.85        20\n",
      "fastfood_restaurant       0.58      0.48      0.52        23\n",
      "            florist       1.00      0.85      0.92        20\n",
      "           gameroom       0.75      0.84      0.79        25\n",
      "                gym       0.93      0.80      0.86        46\n",
      "          hairsalon       0.81      0.73      0.77        48\n",
      "         inside_bus       1.00      0.65      0.79        20\n",
      "            library       0.95      0.86      0.90        21\n",
      "        locker_room       0.81      0.76      0.78        50\n",
      "       movietheater       0.90      0.80      0.85        35\n",
      "             museum       0.68      0.50      0.58        34\n",
      "         poolinside       0.90      0.80      0.85        35\n",
      "         prisoncell       0.82      0.67      0.74        21\n",
      "         restaurant       0.70      0.61      0.65       103\n",
      "             subway       0.82      0.76      0.79       108\n",
      "       trainstation       0.63      0.73      0.68        30\n",
      "        waitingroom       0.63      0.63      0.63        30\n",
      "\n",
      "           accuracy                           0.78      1161\n",
      "          macro avg       0.82      0.76      0.78      1161\n",
      "       weighted avg       0.79      0.78      0.78      1161\n",
      "\n"
     ]
    }
   ],
   "source": [
    "# show a nicely formatted classification report\n",
    "print(classification_report(testY.argmax(axis=1), predictions,target_names=lb.classes_))"
   ]
  },
  {
   "cell_type": "code",
   "execution_count": 0,
   "metadata": {
    "colab": {},
    "colab_type": "code",
    "id": "c31tLddknIfW"
   },
   "outputs": [],
   "source": [
    "# serialize the model to disk\n",
    "model.save('/drive/My Drive/Colab Notebooks/Models/CNN_Pretrained_V11', save_format=\"h5\")"
   ]
  },
  {
   "cell_type": "code",
   "execution_count": 124,
   "metadata": {
    "colab": {
     "base_uri": "https://localhost:8080/",
     "height": 299
    },
    "colab_type": "code",
    "executionInfo": {
     "elapsed": 899123,
     "status": "ok",
     "timestamp": 1591644541212,
     "user": {
      "displayName": "Leo Lannes",
      "photoUrl": "",
      "userId": "07944742584050859094"
     },
     "user_tz": -60
    },
    "id": "hnABle4anf_f",
    "outputId": "b6062dea-6951-46a3-f678-2198080b8622"
   },
   "outputs": [
    {
     "data": {
      "image/png": "[encoded data removed]",
      "text/plain": [
       "<Figure size 432x288 with 1 Axes>"
      ]
     },
     "metadata": {
      "tags": []
     },
     "output_type": "display_data"
    }
   ],
   "source": [
    "# plot the training accuracy\n",
    "N = EPOCHS\n",
    "plt.style.use(\"ggplot\")\n",
    "plt.figure()\n",
    "plt.plot(np.arange(0, N), history.history[\"accuracy\"], label=\"train_acc\")\n",
    "plt.plot(np.arange(0, N), history.history[\"val_accuracy\"], label=\"val_acc\")\n",
    "plt.title(\"Training Accuracy\")\n",
    "plt.xlabel(\"Epoch #\")\n",
    "plt.ylabel(\"Accuracy\")\n",
    "plt.legend(loc=\"lower left\")\n",
    "plt.savefig('/drive/My Drive/Colab Notebooks/Plots/CNN_Pretrained_V11_ACC.png')"
   ]
  },
  {
   "cell_type": "code",
   "execution_count": 125,
   "metadata": {
    "colab": {
     "base_uri": "https://localhost:8080/",
     "height": 299
    },
    "colab_type": "code",
    "executionInfo": {
     "elapsed": 899610,
     "status": "ok",
     "timestamp": 1591644541709,
     "user": {
      "displayName": "Leo Lannes",
      "photoUrl": "",
      "userId": "07944742584050859094"
     },
     "user_tz": -60
    },
    "id": "NpCGDpslHL_l",
    "outputId": "f5dc185e-07ba-4014-b80c-04441fad07e0"
   },
   "outputs": [
    {
     "data": {
      "image/png": "[encoded data removed]",
      "text/plain": [
       "<Figure size 432x288 with 1 Axes>"
      ]
     },
     "metadata": {
      "tags": []
     },
     "output_type": "display_data"
    }
   ],
   "source": [
    "# plot the training loss\n",
    "N = EPOCHS\n",
    "plt.style.use(\"ggplot\")\n",
    "plt.figure()\n",
    "plt.plot(np.arange(0, N), history.history[\"loss\"], label=\"train_loss\")\n",
    "plt.plot(np.arange(0, N), history.history[\"val_loss\"], label=\"val_loss\")\n",
    "plt.title(\"Training Loss\")\n",
    "plt.xlabel(\"Epoch #\")\n",
    "plt.ylabel(\"Loss\")\n",
    "plt.legend(loc=\"lower left\")\n",
    "plt.savefig('/drive/My Drive/Colab Notebooks/Plots/CNN_Pretrained_V11_Loss.png')"
   ]
  }
 ],
 "metadata": {
  "accelerator": "GPU",
  "colab": {
   "collapsed_sections": [],
   "name": "CNN_Pretrained_V11.ipynb",
   "provenance": []
  },
  "kernelspec": {
   "display_name": "Python 3",
   "language": "python",
   "name": "python3"
  },
  "language_info": {
   "codemirror_mode": {
    "name": "ipython",
    "version": 3
   },
   "file_extension": ".py",
   "mimetype": "text/x-python",
   "name": "python",
   "nbconvert_exporter": "python",
   "pygments_lexer": "ipython3",
   "version": "3.7.7"
  }
 },
 "nbformat": 4,
 "nbformat_minor": 1
}
