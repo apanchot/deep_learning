{
 "cells": [
  {
   "cell_type": "code",
   "execution_count": 0,
   "metadata": {
    "colab": {},
    "colab_type": "code",
    "id": "iQspA0sdt_tW"
   },
   "outputs": [],
   "source": [
    "# import the necessary packages\n",
    "from tensorflow.keras.preprocessing.image import ImageDataGenerator\n",
    "from tensorflow.keras.applications import MobileNetV2\n",
    "from tensorflow.keras.layers import AveragePooling2D\n",
    "from tensorflow.keras.layers import MaxPooling2D\n",
    "from tensorflow.keras.layers import Dropout\n",
    "from tensorflow.keras.layers import Flatten\n",
    "from tensorflow.keras.layers import Dense\n",
    "from tensorflow.keras.layers import Input\n",
    "from tensorflow.keras.models import Model\n",
    "from tensorflow.keras.optimizers import Adam\n",
    "from tensorflow.keras.applications.mobilenet_v2 import preprocess_input\n",
    "from tensorflow.keras.preprocessing.image import img_to_array\n",
    "from tensorflow.keras.preprocessing.image import load_img\n",
    "from tensorflow.keras.utils import to_categorical\n",
    "from sklearn.preprocessing import LabelEncoder\n",
    "from sklearn.model_selection import train_test_split\n",
    "from sklearn.metrics import classification_report\n",
    "from imutils import paths\n",
    "from tqdm import tqdm\n",
    "import matplotlib.pyplot as plt\n",
    "import numpy as np\n",
    "import os\n",
    "import pickle"
   ]
  },
  {
   "cell_type": "code",
   "execution_count": 2,
   "metadata": {
    "colab": {
     "base_uri": "https://localhost:8080/",
     "height": 124
    },
    "colab_type": "code",
    "executionInfo": {
     "elapsed": 66091,
     "status": "ok",
     "timestamp": 1591627932747,
     "user": {
      "displayName": "Leo Lannes",
      "photoUrl": "",
      "userId": "07944742584050859094"
     },
     "user_tz": -60
    },
    "id": "w0iTWuUZv3Nf",
    "outputId": "7dc3c293-0f96-4743-af31-a294b21e5d44"
   },
   "outputs": [
    {
     "name": "stdout",
     "output_type": "stream",
     "text": [
      "Go to this URL in a browser: https://accounts.google.com/o/oauth2/auth?client_id=947318989803-6bn6qk8qdgf4n4g3pfee6491hc0brc4i.apps.googleusercontent.com&redirect_uri=urn%3aietf%3awg%3aoauth%3a2.0%3aoob&response_type=code&scope=email%20https%3a%2f%2fwww.googleapis.com%2fauth%2fdocs.test%20https%3a%2f%2fwww.googleapis.com%2fauth%2fdrive%20https%3a%2f%2fwww.googleapis.com%2fauth%2fdrive.photos.readonly%20https%3a%2f%2fwww.googleapis.com%2fauth%2fpeopleapi.readonly\n",
      "\n",
      "Enter your authorization code:\n",
      "··········\n",
      "Mounted at /drive\n"
     ]
    }
   ],
   "source": [
    "from google.colab import drive\n",
    "drive.mount('/drive')"
   ]
  },
  {
   "cell_type": "code",
   "execution_count": 0,
   "metadata": {
    "colab": {},
    "colab_type": "code",
    "id": "7c57-t_kwc4-"
   },
   "outputs": [],
   "source": [
    "imagePaths = list(paths.list_images('/drive/My Drive/AAA_Data Science/Semestre 2/T2 - Deep Learning/deep_learning/Group_Project/original_images'))\n",
    "data = []\n",
    "labels = []"
   ]
  },
  {
   "cell_type": "code",
   "execution_count": 4,
   "metadata": {
    "colab": {
     "base_uri": "https://localhost:8080/",
     "height": 35
    },
    "colab_type": "code",
    "executionInfo": {
     "elapsed": 4238718,
     "status": "ok",
     "timestamp": 1591632105412,
     "user": {
      "displayName": "Leo Lannes",
      "photoUrl": "",
      "userId": "07944742584050859094"
     },
     "user_tz": -60
    },
    "id": "7UkXj8vTw_8o",
    "outputId": "e13c4eaa-2db5-4700-e101-70ddc3bfc1b3"
   },
   "outputs": [
    {
     "name": "stderr",
     "output_type": "stream",
     "text": [
      "100%|██████████| 5805/5805 [1:09:08<00:00,  1.40it/s]\n"
     ]
    }
   ],
   "source": [
    "# loop over the image paths\n",
    "for imagePath in tqdm(imagePaths):\n",
    "\t# extract the class label from the filename\n",
    "\tlabel = imagePath.split(os.path.sep)[-2]\n",
    "\n",
    "\t# load the input image (224x224) and preprocess it\n",
    "\timage = load_img(imagePath, target_size=(224, 224))\n",
    "\timage = img_to_array(image)\n",
    "\timage = preprocess_input(image)\n",
    "\n",
    "\t# update the data and labels lists, respectively\n",
    "\tdata.append(image)\n",
    "\tlabels.append(label)"
   ]
  },
  {
   "cell_type": "code",
   "execution_count": 0,
   "metadata": {
    "colab": {},
    "colab_type": "code",
    "id": "MbuQrEyMGzWE"
   },
   "outputs": [],
   "source": [
    "# convert the data and labels to NumPy arrays\n",
    "data = np.array(data, dtype=\"float32\")\n",
    "labels = np.array(labels)"
   ]
  },
  {
   "cell_type": "code",
   "execution_count": 0,
   "metadata": {
    "colab": {},
    "colab_type": "code",
    "id": "xw7HL33h0Nt7"
   },
   "outputs": [],
   "source": [
    "# # Saving data and labels as a pkl file\n",
    "pickle.dump(data, open(\"/drive/My Drive/Colab Notebooks/data.pkl\", \"wb\"))\n",
    "pickle.dump(labels, open(\"/drive/My Drive/Colab Notebooks/labels.pkl\", \"wb\"))"
   ]
  },
  {
   "cell_type": "code",
   "execution_count": 0,
   "metadata": {
    "colab": {},
    "colab_type": "code",
    "id": "ASCunlr52x-Y"
   },
   "outputs": [],
   "source": [
    "# data = pickle.load(open(\"/drive/My Drive/Colab Notebooks/data.pkl\", \"rb\"))\n",
    "# labels = pickle.load(open(\"/drive/My Drive/Colab Notebooks/labels.pkl\", \"rb\"))"
   ]
  },
  {
   "cell_type": "code",
   "execution_count": 0,
   "metadata": {
    "colab": {},
    "colab_type": "code",
    "id": "3G6W6Iq6NnxK"
   },
   "outputs": [],
   "source": [
    "# perform one-hot encoding on the labels\n",
    "lb = LabelEncoder()\n",
    "labels = lb.fit_transform(labels)\n",
    "labels = to_categorical(labels)"
   ]
  },
  {
   "cell_type": "code",
   "execution_count": 0,
   "metadata": {
    "colab": {},
    "colab_type": "code",
    "id": "nOp1niJ6N6XY"
   },
   "outputs": [],
   "source": [
    "# partition the data into training(60%),validation(20%) and testing(20%)\n",
    "(trainX, testX, trainY, testY) = train_test_split(data, labels,test_size=0.20, stratify=labels, random_state=42)\n",
    "(trainX, validationX, trainY, validationY) = train_test_split(trainX, trainY,test_size=0.25, stratify=trainY, random_state=42)"
   ]
  },
  {
   "cell_type": "code",
   "execution_count": 0,
   "metadata": {
    "colab": {},
    "colab_type": "code",
    "id": "w4qZ3FNJ1KDL"
   },
   "outputs": [],
   "source": []
  },
  {
   "cell_type": "code",
   "execution_count": 0,
   "metadata": {
    "colab": {},
    "colab_type": "code",
    "id": "BxKdoL-0P3J8"
   },
   "outputs": [],
   "source": [
    "# construct the training image generator for data augmentation\n",
    "aug = ImageDataGenerator(\n",
    "\trotation_range=20,\n",
    "\tzoom_range=0.15,\n",
    "\twidth_shift_range=0.2,\n",
    "\theight_shift_range=0.2,\n",
    "\tshear_range=0.15,\n",
    "\thorizontal_flip=True,\n",
    "\tfill_mode=\"nearest\")"
   ]
  },
  {
   "cell_type": "code",
   "execution_count": 68,
   "metadata": {
    "colab": {
     "base_uri": "https://localhost:8080/",
     "height": 55
    },
    "colab_type": "code",
    "executionInfo": {
     "elapsed": 4586,
     "status": "ok",
     "timestamp": 1591637683081,
     "user": {
      "displayName": "Leo Lannes",
      "photoUrl": "",
      "userId": "07944742584050859094"
     },
     "user_tz": -60
    },
    "id": "ZDdU-pHrRY_L",
    "outputId": "12765c96-efe7-4a4e-88c2-671af437a49a"
   },
   "outputs": [
    {
     "name": "stdout",
     "output_type": "stream",
     "text": [
      "WARNING:tensorflow:`input_shape` is undefined or non-square, or `rows` is not in [96, 128, 160, 192, 224]. Weights for input shape (224, 224) will be loaded as the default.\n"
     ]
    }
   ],
   "source": [
    "# load the MobileNetV2 network, ensuring the head FC layer sets are\n",
    "# left off\n",
    "baseModel = MobileNetV2(weights=\"imagenet\", include_top=False, input_tensor=Input(shape=(224, 224, 3)))"
   ]
  },
  {
   "cell_type": "code",
   "execution_count": 0,
   "metadata": {
    "colab": {},
    "colab_type": "code",
    "id": "nKrdmBdEYPB5"
   },
   "outputs": [],
   "source": [
    "# loop over the layers in the base model and freeze them. Now, I'm unfreezing the last 8 layers.\n",
    "for layer in baseModel.layers[:-8]: \n",
    "\tlayer.trainable = False"
   ]
  },
  {
   "cell_type": "code",
   "execution_count": 0,
   "metadata": {
    "colab": {},
    "colab_type": "code",
    "id": "LabjctKiRbiy"
   },
   "outputs": [],
   "source": [
    "# construct the head of the model that will be placed on top of the\n",
    "# the base model\n",
    "headModel = baseModel.output\n",
    "headModel = AveragePooling2D(pool_size=(2, 2))(headModel)\n",
    "headModel = Flatten(name=\"flatten\")(headModel)\n",
    "headModel = Dense(512, activation=\"relu\")(headModel) # apagar\n",
    "headModel = Dropout(0.5)(headModel)\n",
    "headModel = Dense(25, activation=\"softmax\")(headModel)"
   ]
  },
  {
   "cell_type": "code",
   "execution_count": 0,
   "metadata": {
    "colab": {},
    "colab_type": "code",
    "id": "jTk3gaLhYPCB"
   },
   "outputs": [],
   "source": [
    "# initialize the initial learning rate, number of epochs to train for,\n",
    "# and batch size\n",
    "INIT_LR = 1e-5\n",
    "EPOCHS = 20\n",
    "BS = 32"
   ]
  },
  {
   "cell_type": "code",
   "execution_count": 0,
   "metadata": {
    "colab": {},
    "colab_type": "code",
    "id": "jc0Tqa0FYPCF"
   },
   "outputs": [],
   "source": [
    "# place the head FC model on top of the base model (this will become\n",
    "# the actual model we will train)\n",
    "model = Model(inputs=baseModel.input, outputs=headModel)"
   ]
  },
  {
   "cell_type": "code",
   "execution_count": 0,
   "metadata": {
    "colab": {},
    "colab_type": "code",
    "id": "Jqn678rpRyAq"
   },
   "outputs": [],
   "source": [
    "# compile our model\n",
    "opt = Adam(lr=INIT_LR, decay=INIT_LR / EPOCHS)\n",
    "model.compile(loss=\"categorical_crossentropy\", optimizer=opt, metrics=[\"accuracy\"])"
   ]
  },
  {
   "cell_type": "code",
   "execution_count": 74,
   "metadata": {
    "colab": {
     "base_uri": "https://localhost:8080/",
     "height": 711
    },
    "colab_type": "code",
    "executionInfo": {
     "elapsed": 883234,
     "status": "ok",
     "timestamp": 1591638561762,
     "user": {
      "displayName": "Leo Lannes",
      "photoUrl": "",
      "userId": "07944742584050859094"
     },
     "user_tz": -60
    },
    "id": "ajjN3hiYR15i",
    "outputId": "00f9c7f5-b583-4d59-f9a4-2b563a1bc24b"
   },
   "outputs": [
    {
     "name": "stdout",
     "output_type": "stream",
     "text": [
      "Epoch 1/20\n",
      "108/108 [==============================] - 45s 419ms/step - loss: 3.9777 - accuracy: 0.0985 - val_loss: 2.7890 - val_accuracy: 0.2214\n",
      "Epoch 2/20\n",
      "108/108 [==============================] - 43s 402ms/step - loss: 3.1615 - accuracy: 0.1698 - val_loss: 2.3023 - val_accuracy: 0.3299\n",
      "Epoch 3/20\n",
      "108/108 [==============================] - 44s 403ms/step - loss: 2.7487 - accuracy: 0.2428 - val_loss: 2.0137 - val_accuracy: 0.4160\n",
      "Epoch 4/20\n",
      "108/108 [==============================] - 43s 398ms/step - loss: 2.4558 - accuracy: 0.3115 - val_loss: 1.8163 - val_accuracy: 0.4832\n",
      "Epoch 5/20\n",
      "108/108 [==============================] - 43s 400ms/step - loss: 2.2599 - accuracy: 0.3616 - val_loss: 1.6404 - val_accuracy: 0.5297\n",
      "Epoch 6/20\n",
      "108/108 [==============================] - 43s 400ms/step - loss: 2.0838 - accuracy: 0.4080 - val_loss: 1.4989 - val_accuracy: 0.5702\n",
      "Epoch 7/20\n",
      "108/108 [==============================] - 43s 397ms/step - loss: 1.9214 - accuracy: 0.4454 - val_loss: 1.3823 - val_accuracy: 0.5909\n",
      "Epoch 8/20\n",
      "108/108 [==============================] - 43s 396ms/step - loss: 1.8017 - accuracy: 0.4683 - val_loss: 1.2945 - val_accuracy: 0.6158\n",
      "Epoch 9/20\n",
      "108/108 [==============================] - 43s 394ms/step - loss: 1.6611 - accuracy: 0.5161 - val_loss: 1.2186 - val_accuracy: 0.6305\n",
      "Epoch 10/20\n",
      "108/108 [==============================] - 43s 400ms/step - loss: 1.5671 - accuracy: 0.5340 - val_loss: 1.1570 - val_accuracy: 0.6581\n",
      "Epoch 11/20\n",
      "108/108 [==============================] - 43s 400ms/step - loss: 1.5184 - accuracy: 0.5526 - val_loss: 1.1055 - val_accuracy: 0.6701\n",
      "Epoch 12/20\n",
      "108/108 [==============================] - 43s 400ms/step - loss: 1.4400 - accuracy: 0.5749 - val_loss: 1.0714 - val_accuracy: 0.6796\n",
      "Epoch 13/20\n",
      "108/108 [==============================] - 43s 402ms/step - loss: 1.3456 - accuracy: 0.5926 - val_loss: 1.0422 - val_accuracy: 0.6830\n",
      "Epoch 14/20\n",
      "108/108 [==============================] - 43s 402ms/step - loss: 1.2973 - accuracy: 0.6068 - val_loss: 1.0006 - val_accuracy: 0.6908\n",
      "Epoch 15/20\n",
      "108/108 [==============================] - 43s 397ms/step - loss: 1.2658 - accuracy: 0.6247 - val_loss: 0.9759 - val_accuracy: 0.6994\n",
      "Epoch 16/20\n",
      "108/108 [==============================] - 43s 397ms/step - loss: 1.2246 - accuracy: 0.6311 - val_loss: 0.9523 - val_accuracy: 0.7054\n",
      "Epoch 17/20\n",
      "108/108 [==============================] - 43s 400ms/step - loss: 1.1878 - accuracy: 0.6433 - val_loss: 0.9351 - val_accuracy: 0.7140\n",
      "Epoch 18/20\n",
      "108/108 [==============================] - 43s 399ms/step - loss: 1.1681 - accuracy: 0.6410 - val_loss: 0.9198 - val_accuracy: 0.7140\n",
      "Epoch 19/20\n",
      "108/108 [==============================] - 44s 407ms/step - loss: 1.0792 - accuracy: 0.6679 - val_loss: 0.9040 - val_accuracy: 0.7244\n",
      "Epoch 20/20\n",
      "108/108 [==============================] - 44s 407ms/step - loss: 1.0905 - accuracy: 0.6685 - val_loss: 0.8888 - val_accuracy: 0.7218\n"
     ]
    }
   ],
   "source": [
    "# train the head of the network\n",
    "history = model.fit(\n",
    "\taug.flow(trainX, trainY, batch_size=BS),\n",
    "\tsteps_per_epoch=len(trainX) // BS,\n",
    "\tvalidation_data=(validationX, validationY),\n",
    "\tvalidation_steps=len(validationX) // BS,\n",
    "\tepochs=EPOCHS)"
   ]
  },
  {
   "cell_type": "code",
   "execution_count": 0,
   "metadata": {
    "colab": {},
    "colab_type": "code",
    "id": "FprQ0dJVSTFD"
   },
   "outputs": [],
   "source": [
    "# make predictions on the testing set\n",
    "predictions = model.predict(testX, batch_size=BS)"
   ]
  },
  {
   "cell_type": "code",
   "execution_count": 0,
   "metadata": {
    "colab": {},
    "colab_type": "code",
    "id": "_zhm3mcwnBxH"
   },
   "outputs": [],
   "source": [
    "# for each image in the testing set we need to find the index of the\n",
    "# label with corresponding largest predicted probability\n",
    "predictions = np.argmax(predictions, axis=1)"
   ]
  },
  {
   "cell_type": "code",
   "execution_count": 77,
   "metadata": {
    "colab": {
     "base_uri": "https://localhost:8080/",
     "height": 572
    },
    "colab_type": "code",
    "executionInfo": {
     "elapsed": 886725,
     "status": "ok",
     "timestamp": 1591638565269,
     "user": {
      "displayName": "Leo Lannes",
      "photoUrl": "",
      "userId": "07944742584050859094"
     },
     "user_tz": -60
    },
    "id": "MFxPnxZUnCEu",
    "outputId": "d7e09043-4e8c-4dc0-ea9b-0bd8226f4c07"
   },
   "outputs": [
    {
     "name": "stdout",
     "output_type": "stream",
     "text": [
      "                     precision    recall  f1-score   support\n",
      "\n",
      "     airport_inside       0.65      0.61      0.63       122\n",
      "                bar       0.72      0.71      0.72       121\n",
      "            bowling       0.83      0.81      0.82        43\n",
      "             buffet       1.00      0.82      0.90        22\n",
      "             casino       0.84      0.92      0.88       103\n",
      "      church_inside       0.70      0.83      0.76        36\n",
      "           cloister       0.75      0.88      0.81        24\n",
      "       concert_hall       0.86      0.57      0.69        21\n",
      "           elevator       0.93      0.65      0.76        20\n",
      "fastfood_restaurant       0.61      0.48      0.54        23\n",
      "            florist       1.00      0.75      0.86        20\n",
      "           gameroom       0.54      0.84      0.66        25\n",
      "                gym       0.89      0.74      0.81        46\n",
      "          hairsalon       0.70      0.73      0.71        48\n",
      "         inside_bus       0.94      0.75      0.83        20\n",
      "            library       0.80      0.76      0.78        21\n",
      "        locker_room       0.66      0.66      0.66        50\n",
      "       movietheater       0.91      0.83      0.87        35\n",
      "             museum       0.50      0.32      0.39        34\n",
      "         poolinside       0.81      0.49      0.61        35\n",
      "         prisoncell       0.92      0.52      0.67        21\n",
      "         restaurant       0.59      0.73      0.65       103\n",
      "             subway       0.64      0.82      0.72       108\n",
      "       trainstation       0.68      0.57      0.62        30\n",
      "        waitingroom       0.67      0.67      0.67        30\n",
      "\n",
      "           accuracy                           0.72      1161\n",
      "          macro avg       0.76      0.70      0.72      1161\n",
      "       weighted avg       0.73      0.72      0.72      1161\n",
      "\n"
     ]
    }
   ],
   "source": [
    "# show a nicely formatted classification report\n",
    "print(classification_report(testY.argmax(axis=1), predictions,target_names=lb.classes_))"
   ]
  },
  {
   "cell_type": "code",
   "execution_count": 0,
   "metadata": {
    "colab": {},
    "colab_type": "code",
    "id": "c31tLddknIfW"
   },
   "outputs": [],
   "source": [
    "# serialize the model to disk\n",
    "model.save('/drive/My Drive/Colab Notebooks/Models/CNN_Pretrained_V8', save_format=\"h5\")"
   ]
  },
  {
   "cell_type": "code",
   "execution_count": 79,
   "metadata": {
    "colab": {
     "base_uri": "https://localhost:8080/",
     "height": 299
    },
    "colab_type": "code",
    "executionInfo": {
     "elapsed": 887754,
     "status": "ok",
     "timestamp": 1591638566310,
     "user": {
      "displayName": "Leo Lannes",
      "photoUrl": "",
      "userId": "07944742584050859094"
     },
     "user_tz": -60
    },
    "id": "hnABle4anf_f",
    "outputId": "2cd3447e-3509-40d1-82ae-e37e60ce109a"
   },
   "outputs": [
    {
     "data": {
      "image/png": "[encoded data removed]",
      "text/plain": [
       "<Figure size 432x288 with 1 Axes>"
      ]
     },
     "metadata": {
      "tags": []
     },
     "output_type": "display_data"
    }
   ],
   "source": [
    "# plot the training accuracy\n",
    "N = EPOCHS\n",
    "plt.style.use(\"ggplot\")\n",
    "plt.figure()\n",
    "plt.plot(np.arange(0, N), history.history[\"accuracy\"], label=\"train_acc\")\n",
    "plt.plot(np.arange(0, N), history.history[\"val_accuracy\"], label=\"val_acc\")\n",
    "plt.title(\"Training Accuracy\")\n",
    "plt.xlabel(\"Epoch #\")\n",
    "plt.ylabel(\"Accuracy\")\n",
    "plt.legend(loc=\"lower left\")\n",
    "plt.savefig('/drive/My Drive/Colab Notebooks/Plots/CNN_Pretrained_V8_ACC.png')"
   ]
  },
  {
   "cell_type": "code",
   "execution_count": 80,
   "metadata": {
    "colab": {
     "base_uri": "https://localhost:8080/",
     "height": 299
    },
    "colab_type": "code",
    "executionInfo": {
     "elapsed": 888417,
     "status": "ok",
     "timestamp": 1591638566979,
     "user": {
      "displayName": "Leo Lannes",
      "photoUrl": "",
      "userId": "07944742584050859094"
     },
     "user_tz": -60
    },
    "id": "NpCGDpslHL_l",
    "outputId": "c32b7162-bcf4-495a-b60f-3553cf815e88"
   },
   "outputs": [
    {
     "data": {
      "image/png": "[encoded data removed]",
      "text/plain": [
       "<Figure size 432x288 with 1 Axes>"
      ]
     },
     "metadata": {
      "tags": []
     },
     "output_type": "display_data"
    }
   ],
   "source": [
    "# plot the training loss\n",
    "N = EPOCHS\n",
    "plt.style.use(\"ggplot\")\n",
    "plt.figure()\n",
    "plt.plot(np.arange(0, N), history.history[\"loss\"], label=\"train_loss\")\n",
    "plt.plot(np.arange(0, N), history.history[\"val_loss\"], label=\"val_loss\")\n",
    "plt.title(\"Training Loss\")\n",
    "plt.xlabel(\"Epoch #\")\n",
    "plt.ylabel(\"Loss\")\n",
    "plt.legend(loc=\"lower left\")\n",
    "plt.savefig('/drive/My Drive/Colab Notebooks/Plots/CNN_Pretrained_V8_Loss.png')"
   ]
  }
 ],
 "metadata": {
  "accelerator": "GPU",
  "colab": {
   "collapsed_sections": [],
   "name": "CNN_Pretrained_V8.ipynb",
   "provenance": []
  },
  "kernelspec": {
   "display_name": "Python 3",
   "language": "python",
   "name": "python3"
  },
  "language_info": {
   "codemirror_mode": {
    "name": "ipython",
    "version": 3
   },
   "file_extension": ".py",
   "mimetype": "text/x-python",
   "name": "python",
   "nbconvert_exporter": "python",
   "pygments_lexer": "ipython3",
   "version": "3.7.7"
  }
 },
 "nbformat": 4,
 "nbformat_minor": 1
}
