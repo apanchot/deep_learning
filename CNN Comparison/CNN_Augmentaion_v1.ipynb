{
 "cells": [
  {
   "cell_type": "code",
   "execution_count": 1,
   "metadata": {
    "colab": {},
    "colab_type": "code",
    "id": "iQspA0sdt_tW"
   },
   "outputs": [],
   "source": [
    "# import the necessary packages\n",
    "from tensorflow.keras.preprocessing.image import ImageDataGenerator\n",
    "from tensorflow.keras.applications import MobileNetV2\n",
    "from tensorflow.keras.layers import AveragePooling2D\n",
    "from tensorflow.keras.layers import Dropout\n",
    "from tensorflow.keras.layers import Flatten\n",
    "from tensorflow.keras.layers import Dense\n",
    "from tensorflow.keras.layers import Input\n",
    "from tensorflow.keras.models import Model\n",
    "from tensorflow.keras import models\n",
    "from tensorflow.keras import layers\n",
    "from tensorflow.keras.optimizers import Adam\n",
    "from tensorflow.keras.applications.mobilenet_v2 import preprocess_input\n",
    "from tensorflow.keras.preprocessing.image import img_to_array\n",
    "from tensorflow.keras.preprocessing.image import load_img\n",
    "from tensorflow.keras.utils import to_categorical\n",
    "from sklearn.preprocessing import LabelEncoder\n",
    "from sklearn.model_selection import train_test_split\n",
    "from sklearn.metrics import classification_report\n",
    "from imutils import paths\n",
    "from tqdm import tqdm\n",
    "import matplotlib.pyplot as plt\n",
    "import numpy as np\n",
    "import os\n",
    "import pickle"
   ]
  },
  {
   "cell_type": "code",
   "execution_count": 2,
   "metadata": {
    "colab": {
     "base_uri": "https://localhost:8080/",
     "height": 123
    },
    "colab_type": "code",
    "id": "w0iTWuUZv3Nf",
    "outputId": "b8845fb8-8b27-4ef7-f4e6-152b7ea9cc04"
   },
   "outputs": [],
   "source": [
    "# from google.colab import drive\n",
    "# drive.mount('/drive')"
   ]
  },
  {
   "cell_type": "code",
   "execution_count": 3,
   "metadata": {
    "colab": {},
    "colab_type": "code",
    "id": "7c57-t_kwc4-"
   },
   "outputs": [],
   "source": [
    "imagePaths = list(paths.list_images('original_images'))\n",
    "data = []\n",
    "labels = []"
   ]
  },
  {
   "cell_type": "code",
   "execution_count": 4,
   "metadata": {
    "colab": {
     "base_uri": "https://localhost:8080/",
     "height": 34
    },
    "colab_type": "code",
    "id": "7UkXj8vTw_8o",
    "outputId": "167e961a-d09a-41c7-c582-bc84717f8036"
   },
   "outputs": [
    {
     "name": "stderr",
     "output_type": "stream",
     "text": [
      "100%|█████████████████████████████████████████████████████████████████████████████| 5805/5805 [00:38<00:00, 149.51it/s]\n"
     ]
    }
   ],
   "source": [
    "# loop over the image paths\n",
    "for imagePath in tqdm(imagePaths):\n",
    "\t# extract the class label from the filename\n",
    "\tlabel = imagePath.split(os.path.sep)[-2]\n",
    "\n",
    "\t# load the input image (224x224) and preprocess it\n",
    "\timage = load_img(imagePath, target_size=(224, 224))\n",
    "\timage = img_to_array(image)\n",
    "\timage = preprocess_input(image)\n",
    "\n",
    "\t# update the data and labels lists, respectively\n",
    "\tdata.append(image)\n",
    "\tlabels.append(label)"
   ]
  },
  {
   "cell_type": "code",
   "execution_count": 5,
   "metadata": {
    "colab": {},
    "colab_type": "code",
    "id": "MbuQrEyMGzWE"
   },
   "outputs": [],
   "source": [
    "# convert the data and labels to NumPy arrays\n",
    "data = np.array(data, dtype=\"float32\")\n",
    "labels = np.array(labels)"
   ]
  },
  {
   "cell_type": "code",
   "execution_count": 6,
   "metadata": {
    "colab": {},
    "colab_type": "code",
    "id": "xw7HL33h0Nt7"
   },
   "outputs": [],
   "source": [
    "# # Saving data and labels as a pkl file\n",
    "# pickle.dump(data, open(\"/drive/My Drive/data.pkl\", \"wb\"))\n",
    "# pickle.dump(labels, open(\"/drive/My Drive/labels.pkl\", \"wb\"))"
   ]
  },
  {
   "cell_type": "code",
   "execution_count": 7,
   "metadata": {
    "colab": {},
    "colab_type": "code",
    "id": "ASCunlr52x-Y"
   },
   "outputs": [],
   "source": [
    "# data = pickle.load(open(\"/drive/My Drive/data.pkl\", \"rb\"))\n",
    "# labels = pickle.load(open(\"/drive/My Drive/labels.pkl\", \"rb\"))"
   ]
  },
  {
   "cell_type": "code",
   "execution_count": 8,
   "metadata": {
    "colab": {},
    "colab_type": "code",
    "id": "3G6W6Iq6NnxK"
   },
   "outputs": [],
   "source": [
    "# perform one-hot encoding on the labels\n",
    "lb = LabelEncoder()\n",
    "labels = lb.fit_transform(labels)\n",
    "labels = to_categorical(labels)"
   ]
  },
  {
   "cell_type": "code",
   "execution_count": 9,
   "metadata": {
    "colab": {},
    "colab_type": "code",
    "id": "nOp1niJ6N6XY"
   },
   "outputs": [],
   "source": [
    "# partition the data into training and testing splits using 80% of\n",
    "# the data for training and the remaining 20% for testing\n",
    "(trainX, testX, trainY, testY) = train_test_split(data, labels,test_size=0.20, stratify=labels, random_state=42)\n",
    "(trainX, validationX, trainY, validationY) = train_test_split(trainX, trainY,test_size=0.25, stratify=trainY, random_state=42)"
   ]
  },
  {
   "cell_type": "code",
   "execution_count": 10,
   "metadata": {},
   "outputs": [],
   "source": [
    "# construct the training image generator\n",
    "aug = ImageDataGenerator(\n",
    "\trotation_range=20,\n",
    "\tzoom_range=0.15,\n",
    "\twidth_shift_range=0.2,\n",
    "\theight_shift_range=0.2,\n",
    "\tshear_range=0.15,\n",
    "\thorizontal_flip=True,\n",
    "\tfill_mode=\"nearest\")"
   ]
  },
  {
   "cell_type": "code",
   "execution_count": 11,
   "metadata": {},
   "outputs": [],
   "source": [
    "#Model definition\n",
    "\n",
    "model = models.Sequential()\n",
    "\n",
    "model.add(layers.Conv2D(32, (3,3), activation='relu', input_shape=(224,224,3)))\n",
    "model.add(layers.MaxPooling2D((2,2)))\n",
    "\n",
    "model.add(layers.Conv2D(64, (3,3), activation='relu'))\n",
    "model.add(layers.MaxPooling2D((2,2)))\n",
    "\n",
    "model.add(layers.Conv2D(128, (3,3), activation='relu'))\n",
    "model.add(layers.MaxPooling2D((2,2)))\n",
    "\n",
    "model.add(layers.Conv2D(128, (3,3), activation='relu'))\n",
    "model.add(layers.MaxPooling2D((2,2)))\n",
    "          \n",
    "model.add(layers.Flatten())\n",
    "          \n",
    "model.add(layers.Dense(512,activation='relu'))\n",
    "\n",
    "model.add(layers.Dense(25,activation='sigmoid'))"
   ]
  },
  {
   "cell_type": "code",
   "execution_count": 12,
   "metadata": {},
   "outputs": [],
   "source": [
    "# initialize the initial learning rate, number of epochs to train for,\n",
    "# and batch size\n",
    "INIT_LR = 1e-4\n",
    "EPOCHS = 20\n",
    "BS = 32"
   ]
  },
  {
   "cell_type": "code",
   "execution_count": 13,
   "metadata": {},
   "outputs": [],
   "source": [
    "#Model Compilation\n",
    "opt = Adam(lr=INIT_LR, decay=INIT_LR / EPOCHS)\n",
    "model.compile(loss=\"categorical_crossentropy\", optimizer=opt, metrics=[\"accuracy\"])"
   ]
  },
  {
   "cell_type": "code",
   "execution_count": 14,
   "metadata": {
    "colab": {
     "base_uri": "https://localhost:8080/",
     "height": 710
    },
    "colab_type": "code",
    "id": "ajjN3hiYR15i",
    "outputId": "c9bc0247-0d54-438b-b627-737b027d19fd"
   },
   "outputs": [
    {
     "name": "stdout",
     "output_type": "stream",
     "text": [
      "WARNING:tensorflow:sample_weight modes were coerced from\n",
      "  ...\n",
      "    to  \n",
      "  ['...']\n",
      "Train for 108 steps, validate on 1161 samples\n",
      "Epoch 1/20\n",
      "108/108 [==============================] - 197s 2s/step - loss: 2.9660 - accuracy: 0.0945 - val_loss: 2.8179 - val_accuracy: 0.0877\n",
      "Epoch 2/20\n",
      "108/108 [==============================] - 205s 2s/step - loss: 2.8006 - accuracy: 0.1078 - val_loss: 2.6926 - val_accuracy: 0.1580\n",
      "Epoch 3/20\n",
      "108/108 [==============================] - 207s 2s/step - loss: 2.6620 - accuracy: 0.1936 - val_loss: 2.6032 - val_accuracy: 0.1918\n",
      "Epoch 4/20\n",
      "108/108 [==============================] - 197s 2s/step - loss: 2.5471 - accuracy: 0.2185 - val_loss: 2.5161 - val_accuracy: 0.2196\n",
      "Epoch 5/20\n",
      "108/108 [==============================] - 217s 2s/step - loss: 2.4499 - accuracy: 0.2553 - val_loss: 2.4065 - val_accuracy: 0.2517\n",
      "Epoch 6/20\n",
      "108/108 [==============================] - 213s 2s/step - loss: 2.3636 - accuracy: 0.2846 - val_loss: 2.3560 - val_accuracy: 0.2535\n",
      "Epoch 7/20\n",
      "108/108 [==============================] - 226s 2s/step - loss: 2.3008 - accuracy: 0.2854 - val_loss: 2.2598 - val_accuracy: 0.2951\n",
      "Epoch 8/20\n",
      "108/108 [==============================] - 213s 2s/step - loss: 2.2642 - accuracy: 0.3074 - val_loss: 2.1915 - val_accuracy: 0.3160\n",
      "Epoch 9/20\n",
      "108/108 [==============================] - 225s 2s/step - loss: 2.2167 - accuracy: 0.3077 - val_loss: 2.2089 - val_accuracy: 0.3090\n",
      "Epoch 10/20\n",
      "108/108 [==============================] - 244s 2s/step - loss: 2.1492 - accuracy: 0.3405 - val_loss: 2.2700 - val_accuracy: 0.3090\n",
      "Epoch 11/20\n",
      "108/108 [==============================] - 246s 2s/step - loss: 2.1054 - accuracy: 0.3460 - val_loss: 2.1258 - val_accuracy: 0.3559\n",
      "Epoch 12/20\n",
      "108/108 [==============================] - 238s 2s/step - loss: 2.0403 - accuracy: 0.3611 - val_loss: 1.9931 - val_accuracy: 0.3880\n",
      "Epoch 13/20\n",
      "108/108 [==============================] - 238s 2s/step - loss: 2.0152 - accuracy: 0.3753 - val_loss: 2.1940 - val_accuracy: 0.3316\n",
      "Epoch 14/20\n",
      "108/108 [==============================] - 229s 2s/step - loss: 1.9953 - accuracy: 0.3648 - val_loss: 2.0599 - val_accuracy: 0.3733\n",
      "Epoch 15/20\n",
      "108/108 [==============================] - 232s 2s/step - loss: 1.9634 - accuracy: 0.3839 - val_loss: 2.0051 - val_accuracy: 0.3828\n",
      "Epoch 16/20\n",
      "108/108 [==============================] - 240s 2s/step - loss: 1.9190 - accuracy: 0.4106 - val_loss: 2.0468 - val_accuracy: 0.3759\n",
      "Epoch 17/20\n",
      "108/108 [==============================] - 235s 2s/step - loss: 1.8648 - accuracy: 0.4164 - val_loss: 1.9717 - val_accuracy: 0.4002\n",
      "Epoch 18/20\n",
      "108/108 [==============================] - 197s 2s/step - loss: 1.8635 - accuracy: 0.4115 - val_loss: 1.9342 - val_accuracy: 0.4245\n",
      "Epoch 19/20\n",
      "108/108 [==============================] - 194s 2s/step - loss: 1.8052 - accuracy: 0.4312 - val_loss: 2.0760 - val_accuracy: 0.3568\n",
      "Epoch 20/20\n",
      "108/108 [==============================] - 196s 2s/step - loss: 1.7814 - accuracy: 0.4364 - val_loss: 2.0360 - val_accuracy: 0.3863\n"
     ]
    }
   ],
   "source": [
    "# train the head of the network\n",
    "history = model.fit(\n",
    "\taug.flow(trainX, trainY, batch_size=BS),\n",
    "\tsteps_per_epoch=len(trainX) // BS,\n",
    "\tvalidation_data=(validationX, validationY),\n",
    "\tvalidation_steps=len(validationX) // BS,\n",
    "\tepochs=EPOCHS)"
   ]
  },
  {
   "cell_type": "code",
   "execution_count": 15,
   "metadata": {
    "colab": {},
    "colab_type": "code",
    "id": "FprQ0dJVSTFD"
   },
   "outputs": [],
   "source": [
    "# make predictions on the testing set\n",
    "predictions = model.predict(testX, batch_size=BS)"
   ]
  },
  {
   "cell_type": "code",
   "execution_count": 16,
   "metadata": {
    "colab": {},
    "colab_type": "code",
    "id": "_zhm3mcwnBxH"
   },
   "outputs": [],
   "source": [
    "# for each image in the testing set we need to find the index of the\n",
    "# label with corresponding largest predicted probability\n",
    "predictions = np.argmax(predictions, axis=1)"
   ]
  },
  {
   "cell_type": "code",
   "execution_count": 17,
   "metadata": {
    "colab": {
     "base_uri": "https://localhost:8080/",
     "height": 571
    },
    "colab_type": "code",
    "id": "MFxPnxZUnCEu",
    "outputId": "0a5eba09-c75f-4cb7-dbb9-b6630bd9f462"
   },
   "outputs": [
    {
     "name": "stdout",
     "output_type": "stream",
     "text": [
      "                     precision    recall  f1-score   support\n",
      "\n",
      "     airport_inside       0.35      0.69      0.46       122\n",
      "                bar       0.48      0.35      0.40       121\n",
      "            bowling       1.00      0.19      0.31        43\n",
      "             buffet       0.45      0.41      0.43        22\n",
      "             casino       0.69      0.40      0.51       103\n",
      "      church_inside       0.30      0.56      0.39        36\n",
      "           cloister       0.46      0.79      0.58        24\n",
      "       concert_hall       0.46      0.29      0.35        21\n",
      "           elevator       0.21      0.25      0.23        20\n",
      "fastfood_restaurant       0.00      0.00      0.00        23\n",
      "            florist       0.37      0.50      0.43        20\n",
      "           gameroom       0.11      0.04      0.06        25\n",
      "                gym       0.30      0.52      0.38        46\n",
      "          hairsalon       0.33      0.25      0.29        48\n",
      "         inside_bus       0.46      0.30      0.36        20\n",
      "            library       0.14      0.14      0.14        21\n",
      "        locker_room       0.45      0.36      0.40        50\n",
      "       movietheater       0.71      0.34      0.46        35\n",
      "             museum       0.11      0.03      0.05        34\n",
      "         poolinside       0.47      0.77      0.59        35\n",
      "         prisoncell       0.33      0.19      0.24        21\n",
      "         restaurant       0.32      0.50      0.39       103\n",
      "             subway       0.40      0.38      0.39       108\n",
      "       trainstation       0.58      0.23      0.33        30\n",
      "        waitingroom       0.33      0.10      0.15        30\n",
      "\n",
      "           accuracy                           0.39      1161\n",
      "          macro avg       0.39      0.34      0.33      1161\n",
      "       weighted avg       0.42      0.39      0.37      1161\n",
      "\n"
     ]
    },
    {
     "name": "stderr",
     "output_type": "stream",
     "text": [
      "C:\\ProgramData\\Anaconda3\\envs\\deeplearning\\lib\\site-packages\\sklearn\\metrics\\_classification.py:1272: UndefinedMetricWarning: Precision and F-score are ill-defined and being set to 0.0 in labels with no predicted samples. Use `zero_division` parameter to control this behavior.\n",
      "  _warn_prf(average, modifier, msg_start, len(result))\n"
     ]
    }
   ],
   "source": [
    "# show a nicely formatted classification report\n",
    "print(classification_report(testY.argmax(axis=1), predictions,target_names=lb.classes_))"
   ]
  },
  {
   "cell_type": "code",
   "execution_count": 18,
   "metadata": {
    "colab": {},
    "colab_type": "code",
    "id": "c31tLddknIfW"
   },
   "outputs": [],
   "source": [
    "# serialize the model to disk\n",
    "model.save('Models/CNN_Augmentaion_v1', save_format=\"h5\")"
   ]
  },
  {
   "cell_type": "code",
   "execution_count": 19,
   "metadata": {
    "colab": {
     "base_uri": "https://localhost:8080/",
     "height": 299
    },
    "colab_type": "code",
    "id": "hnABle4anf_f",
    "outputId": "e59cfac8-1326-49af-e2bb-446b1e90c825"
   },
   "outputs": [
    {
     "data": {
      "image/png": "[encoded data removed]",
      "text/plain": [
       "<Figure size 432x288 with 1 Axes>"
      ]
     },
     "metadata": {},
     "output_type": "display_data"
    }
   ],
   "source": [
    "# plot the training accuracy\n",
    "N = EPOCHS\n",
    "plt.style.use(\"ggplot\")\n",
    "plt.figure()\n",
    "plt.plot(np.arange(0, N), history.history[\"accuracy\"], label=\"train_acc\")\n",
    "plt.plot(np.arange(0, N), history.history[\"val_accuracy\"], label=\"val_acc\")\n",
    "plt.title(\"Training Accuracy\")\n",
    "plt.xlabel(\"Epoch #\")\n",
    "plt.ylabel(\"Accuracy\")\n",
    "plt.legend(loc=\"lower left\")\n",
    "plt.savefig('Plots/CNN_Augmentaion_v1_ACC.png')"
   ]
  },
  {
   "cell_type": "code",
   "execution_count": 20,
   "metadata": {
    "colab": {},
    "colab_type": "code",
    "id": "NpCGDpslHL_l"
   },
   "outputs": [
    {
     "data": {
      "image/png": "[encoded data removed]",
      "text/plain": [
       "<Figure size 432x288 with 1 Axes>"
      ]
     },
     "metadata": {},
     "output_type": "display_data"
    }
   ],
   "source": [
    "# plot the training loss\n",
    "N = EPOCHS\n",
    "plt.style.use(\"ggplot\")\n",
    "plt.figure()\n",
    "plt.plot(np.arange(0, N), history.history[\"loss\"], label=\"train_loss\")\n",
    "plt.plot(np.arange(0, N), history.history[\"val_loss\"], label=\"val_loss\")\n",
    "plt.title(\"Training Loss\")\n",
    "plt.xlabel(\"Epoch #\")\n",
    "plt.ylabel(\"Loss\")\n",
    "plt.legend(loc=\"lower left\")\n",
    "plt.savefig('Plots/CNN_Augmentaion_v1_Loss.png')"
   ]
  },
  {
   "cell_type": "code",
   "execution_count": null,
   "metadata": {},
   "outputs": [],
   "source": []
  }
 ],
 "metadata": {
  "accelerator": "GPU",
  "colab": {
   "name": "CNN with pretrained models - Bruno.ipynb",
   "provenance": []
  },
  "kernelspec": {
   "display_name": "Python 3",
   "language": "python",
   "name": "python3"
  },
  "language_info": {
   "codemirror_mode": {
    "name": "ipython",
    "version": 3
   },
   "file_extension": ".py",
   "mimetype": "text/x-python",
   "name": "python",
   "nbconvert_exporter": "python",
   "pygments_lexer": "ipython3",
   "version": "3.7.7"
  }
 },
 "nbformat": 4,
 "nbformat_minor": 1
}
