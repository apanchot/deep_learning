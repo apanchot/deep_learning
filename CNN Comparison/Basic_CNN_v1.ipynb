{
 "cells": [
  {
   "cell_type": "code",
   "execution_count": 13,
   "metadata": {
    "colab": {},
    "colab_type": "code",
    "id": "iQspA0sdt_tW"
   },
   "outputs": [],
   "source": [
    "# import the necessary packages\n",
    "from tensorflow.keras.preprocessing.image import ImageDataGenerator\n",
    "from tensorflow.keras.applications import MobileNetV2\n",
    "from tensorflow.keras.layers import AveragePooling2D\n",
    "from tensorflow.keras.layers import Dropout\n",
    "from tensorflow.keras.layers import Flatten\n",
    "from tensorflow.keras.layers import Dense\n",
    "from tensorflow.keras.layers import Input\n",
    "from tensorflow.keras.models import Model\n",
    "from tensorflow.keras import models\n",
    "from tensorflow.keras import layers\n",
    "from tensorflow.keras.optimizers import Adam\n",
    "from tensorflow.keras.applications.mobilenet_v2 import preprocess_input\n",
    "from tensorflow.keras.preprocessing.image import img_to_array\n",
    "from tensorflow.keras.preprocessing.image import load_img\n",
    "from tensorflow.keras.utils import to_categorical\n",
    "from sklearn.preprocessing import LabelEncoder\n",
    "from sklearn.model_selection import train_test_split\n",
    "from sklearn.metrics import classification_report\n",
    "from imutils import paths\n",
    "from tqdm import tqdm\n",
    "import matplotlib.pyplot as plt\n",
    "import numpy as np\n",
    "import os\n",
    "import pickle"
   ]
  },
  {
   "cell_type": "code",
   "execution_count": 2,
   "metadata": {
    "colab": {
     "base_uri": "https://localhost:8080/",
     "height": 123
    },
    "colab_type": "code",
    "id": "w0iTWuUZv3Nf",
    "outputId": "b8845fb8-8b27-4ef7-f4e6-152b7ea9cc04"
   },
   "outputs": [],
   "source": [
    "# from google.colab import drive\n",
    "# drive.mount('/drive')"
   ]
  },
  {
   "cell_type": "code",
   "execution_count": 3,
   "metadata": {
    "colab": {},
    "colab_type": "code",
    "id": "7c57-t_kwc4-"
   },
   "outputs": [],
   "source": [
    "imagePaths = list(paths.list_images('original_images'))\n",
    "data = []\n",
    "labels = []"
   ]
  },
  {
   "cell_type": "code",
   "execution_count": 4,
   "metadata": {
    "colab": {
     "base_uri": "https://localhost:8080/",
     "height": 34
    },
    "colab_type": "code",
    "id": "7UkXj8vTw_8o",
    "outputId": "167e961a-d09a-41c7-c582-bc84717f8036"
   },
   "outputs": [
    {
     "name": "stderr",
     "output_type": "stream",
     "text": [
      "100%|█████████████████████████████████████████████████████████████████████████████| 5805/5805 [00:23<00:00, 243.85it/s]\n"
     ]
    }
   ],
   "source": [
    "# loop over the image paths\n",
    "for imagePath in tqdm(imagePaths):\n",
    "\t# extract the class label from the filename\n",
    "\tlabel = imagePath.split(os.path.sep)[-2]\n",
    "\n",
    "\t# load the input image (224x224) and preprocess it\n",
    "\timage = load_img(imagePath, target_size=(224, 224))\n",
    "\timage = img_to_array(image)\n",
    "\timage = preprocess_input(image)\n",
    "\n",
    "\t# update the data and labels lists, respectively\n",
    "\tdata.append(image)\n",
    "\tlabels.append(label)"
   ]
  },
  {
   "cell_type": "code",
   "execution_count": 5,
   "metadata": {
    "colab": {},
    "colab_type": "code",
    "id": "MbuQrEyMGzWE"
   },
   "outputs": [],
   "source": [
    "# convert the data and labels to NumPy arrays\n",
    "data = np.array(data, dtype=\"float32\")\n",
    "labels = np.array(labels)"
   ]
  },
  {
   "cell_type": "code",
   "execution_count": 6,
   "metadata": {
    "colab": {},
    "colab_type": "code",
    "id": "xw7HL33h0Nt7"
   },
   "outputs": [],
   "source": [
    "# # Saving data and labels as a pkl file\n",
    "# pickle.dump(data, open(\"/drive/My Drive/data.pkl\", \"wb\"))\n",
    "# pickle.dump(labels, open(\"/drive/My Drive/labels.pkl\", \"wb\"))"
   ]
  },
  {
   "cell_type": "code",
   "execution_count": 7,
   "metadata": {
    "colab": {},
    "colab_type": "code",
    "id": "ASCunlr52x-Y"
   },
   "outputs": [],
   "source": [
    "# data = pickle.load(open(\"/drive/My Drive/data.pkl\", \"rb\"))\n",
    "# labels = pickle.load(open(\"/drive/My Drive/labels.pkl\", \"rb\"))"
   ]
  },
  {
   "cell_type": "code",
   "execution_count": 8,
   "metadata": {
    "colab": {},
    "colab_type": "code",
    "id": "3G6W6Iq6NnxK"
   },
   "outputs": [],
   "source": [
    "# perform one-hot encoding on the labels\n",
    "lb = LabelEncoder()\n",
    "labels = lb.fit_transform(labels)\n",
    "labels = to_categorical(labels)"
   ]
  },
  {
   "cell_type": "code",
   "execution_count": 9,
   "metadata": {
    "colab": {},
    "colab_type": "code",
    "id": "nOp1niJ6N6XY"
   },
   "outputs": [],
   "source": [
    "# partition the data into training and testing splits using 80% of\n",
    "# the data for training and the remaining 20% for testing\n",
    "(trainX, testX, trainY, testY) = train_test_split(data, labels,test_size=0.20, stratify=labels, random_state=42)\n",
    "(trainX, validationX, trainY, validationY) = train_test_split(trainX, trainY,test_size=0.25, stratify=trainY, random_state=42)"
   ]
  },
  {
   "cell_type": "code",
   "execution_count": 26,
   "metadata": {},
   "outputs": [],
   "source": [
    "# construct the training image generator\n",
    "aug = ImageDataGenerator()"
   ]
  },
  {
   "cell_type": "code",
   "execution_count": 27,
   "metadata": {},
   "outputs": [],
   "source": [
    "#Model definition\n",
    "\n",
    "model = models.Sequential()\n",
    "\n",
    "model.add(layers.Conv2D(32, (3,3), activation='relu', input_shape=(224,224,3)))\n",
    "model.add(layers.MaxPooling2D((2,2)))\n",
    "\n",
    "model.add(layers.Conv2D(64, (3,3), activation='relu'))\n",
    "model.add(layers.MaxPooling2D((2,2)))\n",
    "\n",
    "model.add(layers.Conv2D(128, (3,3), activation='relu'))\n",
    "model.add(layers.MaxPooling2D((2,2)))\n",
    "\n",
    "model.add(layers.Conv2D(128, (3,3), activation='relu'))\n",
    "model.add(layers.MaxPooling2D((2,2)))\n",
    "          \n",
    "model.add(layers.Flatten())\n",
    "          \n",
    "model.add(layers.Dense(512,activation='relu'))\n",
    "\n",
    "model.add(layers.Dense(25,activation='sigmoid'))"
   ]
  },
  {
   "cell_type": "code",
   "execution_count": 28,
   "metadata": {},
   "outputs": [],
   "source": [
    "# initialize the initial learning rate, number of epochs to train for,\n",
    "# and batch size\n",
    "INIT_LR = 1e-4\n",
    "EPOCHS = 20\n",
    "BS = 32"
   ]
  },
  {
   "cell_type": "code",
   "execution_count": 29,
   "metadata": {},
   "outputs": [],
   "source": [
    "#Model Compilation\n",
    "opt = Adam(lr=INIT_LR, decay=INIT_LR / EPOCHS)\n",
    "model.compile(loss=\"categorical_crossentropy\", optimizer=opt, metrics=[\"accuracy\"])"
   ]
  },
  {
   "cell_type": "code",
   "execution_count": 30,
   "metadata": {
    "colab": {
     "base_uri": "https://localhost:8080/",
     "height": 710
    },
    "colab_type": "code",
    "id": "ajjN3hiYR15i",
    "outputId": "c9bc0247-0d54-438b-b627-737b027d19fd"
   },
   "outputs": [
    {
     "name": "stdout",
     "output_type": "stream",
     "text": [
      "WARNING:tensorflow:sample_weight modes were coerced from\n",
      "  ...\n",
      "    to  \n",
      "  ['...']\n",
      "Train for 108 steps, validate on 1161 samples\n",
      "Epoch 1/20\n",
      "108/108 [==============================] - 148s 1s/step - loss: 2.9227 - accuracy: 0.1197 - val_loss: 2.7962 - val_accuracy: 0.1224\n",
      "Epoch 2/20\n",
      "108/108 [==============================] - 160s 1s/step - loss: 2.6301 - accuracy: 0.1724 - val_loss: 2.5818 - val_accuracy: 0.2153\n",
      "Epoch 3/20\n",
      "108/108 [==============================] - 172s 2s/step - loss: 2.3560 - accuracy: 0.2637 - val_loss: 2.4193 - val_accuracy: 0.2405\n",
      "Epoch 4/20\n",
      "108/108 [==============================] - 173s 2s/step - loss: 2.0567 - accuracy: 0.3474 - val_loss: 2.3505 - val_accuracy: 0.2804\n",
      "Epoch 5/20\n",
      "108/108 [==============================] - 173s 2s/step - loss: 1.7320 - accuracy: 0.4602 - val_loss: 2.4264 - val_accuracy: 0.2839\n",
      "Epoch 6/20\n",
      "108/108 [==============================] - 169s 2s/step - loss: 1.4069 - accuracy: 0.5610 - val_loss: 2.3320 - val_accuracy: 0.3229\n",
      "Epoch 7/20\n",
      "108/108 [==============================] - 169s 2s/step - loss: 1.0635 - accuracy: 0.6841 - val_loss: 2.4832 - val_accuracy: 0.3030\n",
      "Epoch 8/20\n",
      "108/108 [==============================] - 163s 2s/step - loss: 0.7178 - accuracy: 0.7859 - val_loss: 2.6925 - val_accuracy: 0.3177\n",
      "Epoch 9/20\n",
      "108/108 [==============================] - 171s 2s/step - loss: 0.4249 - accuracy: 0.8847 - val_loss: 2.9554 - val_accuracy: 0.3316\n",
      "Epoch 10/20\n",
      "108/108 [==============================] - 171s 2s/step - loss: 0.2161 - accuracy: 0.9476 - val_loss: 3.4421 - val_accuracy: 0.3290\n",
      "Epoch 11/20\n",
      "108/108 [==============================] - 170s 2s/step - loss: 0.1133 - accuracy: 0.9803 - val_loss: 3.7023 - val_accuracy: 0.3116\n",
      "Epoch 12/20\n",
      "108/108 [==============================] - 168s 2s/step - loss: 0.0485 - accuracy: 0.9951 - val_loss: 4.1065 - val_accuracy: 0.3307\n",
      "Epoch 13/20\n",
      "108/108 [==============================] - 171s 2s/step - loss: 0.0165 - accuracy: 1.0000 - val_loss: 4.2802 - val_accuracy: 0.3307\n",
      "Epoch 14/20\n",
      "108/108 [==============================] - 174s 2s/step - loss: 0.0078 - accuracy: 1.0000 - val_loss: 4.4121 - val_accuracy: 0.3255\n",
      "Epoch 15/20\n",
      "108/108 [==============================] - 180s 2s/step - loss: 0.0051 - accuracy: 1.0000 - val_loss: 4.5789 - val_accuracy: 0.3273\n",
      "Epoch 16/20\n",
      "108/108 [==============================] - 183s 2s/step - loss: 0.0037 - accuracy: 1.0000 - val_loss: 4.6861 - val_accuracy: 0.3264\n",
      "Epoch 17/20\n",
      "108/108 [==============================] - 181s 2s/step - loss: 0.0030 - accuracy: 1.0000 - val_loss: 4.7930 - val_accuracy: 0.3307\n",
      "Epoch 18/20\n",
      "108/108 [==============================] - 180s 2s/step - loss: 0.0025 - accuracy: 1.0000 - val_loss: 4.8665 - val_accuracy: 0.3273\n",
      "Epoch 19/20\n",
      "108/108 [==============================] - 185s 2s/step - loss: 0.0020 - accuracy: 1.0000 - val_loss: 4.9510 - val_accuracy: 0.3273\n",
      "Epoch 20/20\n",
      "108/108 [==============================] - 187s 2s/step - loss: 0.0017 - accuracy: 1.0000 - val_loss: 5.0157 - val_accuracy: 0.3264\n"
     ]
    }
   ],
   "source": [
    "# train the head of the network\n",
    "history = model.fit(\n",
    "\taug.flow(trainX, trainY, batch_size=BS),\n",
    "\tsteps_per_epoch=len(trainX) // BS,\n",
    "\tvalidation_data=(validationX, validationY),\n",
    "\tvalidation_steps=len(validationX) // BS,\n",
    "\tepochs=EPOCHS)"
   ]
  },
  {
   "cell_type": "code",
   "execution_count": 31,
   "metadata": {
    "colab": {},
    "colab_type": "code",
    "id": "FprQ0dJVSTFD"
   },
   "outputs": [],
   "source": [
    "# make predictions on the testing set\n",
    "predictions = model.predict(testX, batch_size=BS)"
   ]
  },
  {
   "cell_type": "code",
   "execution_count": 32,
   "metadata": {
    "colab": {},
    "colab_type": "code",
    "id": "_zhm3mcwnBxH"
   },
   "outputs": [],
   "source": [
    "# for each image in the testing set we need to find the index of the\n",
    "# label with corresponding largest predicted probability\n",
    "predictions = np.argmax(predictions, axis=1)"
   ]
  },
  {
   "cell_type": "code",
   "execution_count": 33,
   "metadata": {
    "colab": {
     "base_uri": "https://localhost:8080/",
     "height": 571
    },
    "colab_type": "code",
    "id": "MFxPnxZUnCEu",
    "outputId": "0a5eba09-c75f-4cb7-dbb9-b6630bd9f462"
   },
   "outputs": [
    {
     "name": "stdout",
     "output_type": "stream",
     "text": [
      "                     precision    recall  f1-score   support\n",
      "\n",
      "     airport_inside       0.40      0.40      0.40       122\n",
      "                bar       0.27      0.36      0.30       121\n",
      "            bowling       0.33      0.30      0.32        43\n",
      "             buffet       0.30      0.27      0.29        22\n",
      "             casino       0.34      0.36      0.35       103\n",
      "      church_inside       0.33      0.36      0.35        36\n",
      "           cloister       0.57      0.50      0.53        24\n",
      "       concert_hall       0.29      0.19      0.23        21\n",
      "           elevator       0.30      0.15      0.20        20\n",
      "fastfood_restaurant       0.12      0.04      0.06        23\n",
      "            florist       0.12      0.10      0.11        20\n",
      "           gameroom       0.08      0.04      0.05        25\n",
      "                gym       0.22      0.24      0.23        46\n",
      "          hairsalon       0.21      0.23      0.22        48\n",
      "         inside_bus       0.44      0.40      0.42        20\n",
      "            library       0.20      0.19      0.20        21\n",
      "        locker_room       0.24      0.20      0.22        50\n",
      "       movietheater       0.50      0.46      0.48        35\n",
      "             museum       0.24      0.21      0.22        34\n",
      "         poolinside       0.53      0.54      0.54        35\n",
      "         prisoncell       0.28      0.24      0.26        21\n",
      "         restaurant       0.29      0.32      0.30       103\n",
      "             subway       0.41      0.45      0.43       108\n",
      "       trainstation       0.40      0.33      0.36        30\n",
      "        waitingroom       0.20      0.20      0.20        30\n",
      "\n",
      "           accuracy                           0.32      1161\n",
      "          macro avg       0.30      0.28      0.29      1161\n",
      "       weighted avg       0.32      0.32      0.32      1161\n",
      "\n"
     ]
    }
   ],
   "source": [
    "# show a nicely formatted classification report\n",
    "print(classification_report(testY.argmax(axis=1), predictions,target_names=lb.classes_))"
   ]
  },
  {
   "cell_type": "code",
   "execution_count": 34,
   "metadata": {
    "colab": {},
    "colab_type": "code",
    "id": "c31tLddknIfW"
   },
   "outputs": [],
   "source": [
    "# serialize the model to disk\n",
    "model.save('Models/Basic_CNN_V1', save_format=\"h5\")"
   ]
  },
  {
   "cell_type": "code",
   "execution_count": 35,
   "metadata": {
    "colab": {
     "base_uri": "https://localhost:8080/",
     "height": 299
    },
    "colab_type": "code",
    "id": "hnABle4anf_f",
    "outputId": "e59cfac8-1326-49af-e2bb-446b1e90c825"
   },
   "outputs": [
    {
     "data": {
      "image/png": "[encoded data removed]",
      "text/plain": [
       "<Figure size 432x288 with 1 Axes>"
      ]
     },
     "metadata": {},
     "output_type": "display_data"
    }
   ],
   "source": [
    "# plot the training accuracy\n",
    "N = EPOCHS\n",
    "plt.style.use(\"ggplot\")\n",
    "plt.figure()\n",
    "plt.plot(np.arange(0, N), history.history[\"accuracy\"], label=\"train_acc\")\n",
    "plt.plot(np.arange(0, N), history.history[\"val_accuracy\"], label=\"val_acc\")\n",
    "plt.title(\"Training Accuracy\")\n",
    "plt.xlabel(\"Epoch #\")\n",
    "plt.ylabel(\"Accuracy\")\n",
    "plt.legend(loc=\"lower left\")\n",
    "plt.savefig('Plots/Basic_CNN_V1_ACC.png')"
   ]
  },
  {
   "cell_type": "code",
   "execution_count": 36,
   "metadata": {
    "colab": {},
    "colab_type": "code",
    "id": "NpCGDpslHL_l"
   },
   "outputs": [
    {
     "data": {
      "image/png": "[encoded data removed]",
      "text/plain": [
       "<Figure size 432x288 with 1 Axes>"
      ]
     },
     "metadata": {},
     "output_type": "display_data"
    }
   ],
   "source": [
    "# plot the training loss\n",
    "N = EPOCHS\n",
    "plt.style.use(\"ggplot\")\n",
    "plt.figure()\n",
    "plt.plot(np.arange(0, N), history.history[\"loss\"], label=\"train_loss\")\n",
    "plt.plot(np.arange(0, N), history.history[\"val_loss\"], label=\"val_loss\")\n",
    "plt.title(\"Training Loss\")\n",
    "plt.xlabel(\"Epoch #\")\n",
    "plt.ylabel(\"Loss\")\n",
    "plt.legend(loc=\"lower left\")\n",
    "plt.savefig('Plots/Basic_CNN_V1_Loss.png')"
   ]
  },
  {
   "cell_type": "code",
   "execution_count": null,
   "metadata": {},
   "outputs": [],
   "source": []
  }
 ],
 "metadata": {
  "accelerator": "GPU",
  "colab": {
   "name": "CNN with pretrained models - Bruno.ipynb",
   "provenance": []
  },
  "kernelspec": {
   "display_name": "Python 3",
   "language": "python",
   "name": "python3"
  },
  "language_info": {
   "codemirror_mode": {
    "name": "ipython",
    "version": 3
   },
   "file_extension": ".py",
   "mimetype": "text/x-python",
   "name": "python",
   "nbconvert_exporter": "python",
   "pygments_lexer": "ipython3",
   "version": "3.7.7"
  }
 },
 "nbformat": 4,
 "nbformat_minor": 1
}
