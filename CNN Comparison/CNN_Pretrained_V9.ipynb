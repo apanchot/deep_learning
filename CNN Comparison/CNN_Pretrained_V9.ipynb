{
 "cells": [
  {
   "cell_type": "code",
   "execution_count": 0,
   "metadata": {
    "colab": {},
    "colab_type": "code",
    "id": "iQspA0sdt_tW"
   },
   "outputs": [],
   "source": [
    "# import the necessary packages\n",
    "from tensorflow.keras.preprocessing.image import ImageDataGenerator\n",
    "from tensorflow.keras.applications import MobileNetV2\n",
    "from tensorflow.keras.layers import AveragePooling2D\n",
    "from tensorflow.keras.layers import MaxPooling2D\n",
    "from tensorflow.keras.layers import Dropout\n",
    "from tensorflow.keras.layers import Flatten\n",
    "from tensorflow.keras.layers import Dense\n",
    "from tensorflow.keras.layers import Input\n",
    "from tensorflow.keras.models import Model\n",
    "from tensorflow.keras.optimizers import Adam\n",
    "from tensorflow.keras.applications.mobilenet_v2 import preprocess_input\n",
    "from tensorflow.keras.preprocessing.image import img_to_array\n",
    "from tensorflow.keras.preprocessing.image import load_img\n",
    "from tensorflow.keras.utils import to_categorical\n",
    "from sklearn.preprocessing import LabelEncoder\n",
    "from sklearn.model_selection import train_test_split\n",
    "from sklearn.metrics import classification_report\n",
    "from imutils import paths\n",
    "from tqdm import tqdm\n",
    "import matplotlib.pyplot as plt\n",
    "import numpy as np\n",
    "import os\n",
    "import pickle"
   ]
  },
  {
   "cell_type": "code",
   "execution_count": 2,
   "metadata": {
    "colab": {
     "base_uri": "https://localhost:8080/",
     "height": 124
    },
    "colab_type": "code",
    "executionInfo": {
     "elapsed": 66091,
     "status": "ok",
     "timestamp": 1591627932747,
     "user": {
      "displayName": "Leo Lannes",
      "photoUrl": "",
      "userId": "07944742584050859094"
     },
     "user_tz": -60
    },
    "id": "w0iTWuUZv3Nf",
    "outputId": "7dc3c293-0f96-4743-af31-a294b21e5d44"
   },
   "outputs": [
    {
     "name": "stdout",
     "output_type": "stream",
     "text": [
      "Go to this URL in a browser: https://accounts.google.com/o/oauth2/auth?client_id=947318989803-6bn6qk8qdgf4n4g3pfee6491hc0brc4i.apps.googleusercontent.com&redirect_uri=urn%3aietf%3awg%3aoauth%3a2.0%3aoob&response_type=code&scope=email%20https%3a%2f%2fwww.googleapis.com%2fauth%2fdocs.test%20https%3a%2f%2fwww.googleapis.com%2fauth%2fdrive%20https%3a%2f%2fwww.googleapis.com%2fauth%2fdrive.photos.readonly%20https%3a%2f%2fwww.googleapis.com%2fauth%2fpeopleapi.readonly\n",
      "\n",
      "Enter your authorization code:\n",
      "··········\n",
      "Mounted at /drive\n"
     ]
    }
   ],
   "source": [
    "from google.colab import drive\n",
    "drive.mount('/drive')"
   ]
  },
  {
   "cell_type": "code",
   "execution_count": 0,
   "metadata": {
    "colab": {},
    "colab_type": "code",
    "id": "7c57-t_kwc4-"
   },
   "outputs": [],
   "source": [
    "imagePaths = list(paths.list_images('/drive/My Drive/AAA_Data Science/Semestre 2/T2 - Deep Learning/deep_learning/Group_Project/original_images'))\n",
    "data = []\n",
    "labels = []"
   ]
  },
  {
   "cell_type": "code",
   "execution_count": 4,
   "metadata": {
    "colab": {
     "base_uri": "https://localhost:8080/",
     "height": 35
    },
    "colab_type": "code",
    "executionInfo": {
     "elapsed": 4238718,
     "status": "ok",
     "timestamp": 1591632105412,
     "user": {
      "displayName": "Leo Lannes",
      "photoUrl": "",
      "userId": "07944742584050859094"
     },
     "user_tz": -60
    },
    "id": "7UkXj8vTw_8o",
    "outputId": "e13c4eaa-2db5-4700-e101-70ddc3bfc1b3"
   },
   "outputs": [
    {
     "name": "stderr",
     "output_type": "stream",
     "text": [
      "100%|██████████| 5805/5805 [1:09:08<00:00,  1.40it/s]\n"
     ]
    }
   ],
   "source": [
    "# loop over the image paths\n",
    "for imagePath in tqdm(imagePaths):\n",
    "\t# extract the class label from the filename\n",
    "\tlabel = imagePath.split(os.path.sep)[-2]\n",
    "\n",
    "\t# load the input image (224x224) and preprocess it\n",
    "\timage = load_img(imagePath, target_size=(224, 224))\n",
    "\timage = img_to_array(image)\n",
    "\timage = preprocess_input(image)\n",
    "\n",
    "\t# update the data and labels lists, respectively\n",
    "\tdata.append(image)\n",
    "\tlabels.append(label)"
   ]
  },
  {
   "cell_type": "code",
   "execution_count": 0,
   "metadata": {
    "colab": {},
    "colab_type": "code",
    "id": "MbuQrEyMGzWE"
   },
   "outputs": [],
   "source": [
    "# convert the data and labels to NumPy arrays\n",
    "data = np.array(data, dtype=\"float32\")\n",
    "labels = np.array(labels)"
   ]
  },
  {
   "cell_type": "code",
   "execution_count": 0,
   "metadata": {
    "colab": {},
    "colab_type": "code",
    "id": "xw7HL33h0Nt7"
   },
   "outputs": [],
   "source": [
    "# # Saving data and labels as a pkl file\n",
    "pickle.dump(data, open(\"/drive/My Drive/Colab Notebooks/data.pkl\", \"wb\"))\n",
    "pickle.dump(labels, open(\"/drive/My Drive/Colab Notebooks/labels.pkl\", \"wb\"))"
   ]
  },
  {
   "cell_type": "code",
   "execution_count": 0,
   "metadata": {
    "colab": {},
    "colab_type": "code",
    "id": "ASCunlr52x-Y"
   },
   "outputs": [],
   "source": [
    "# data = pickle.load(open(\"/drive/My Drive/Colab Notebooks/data.pkl\", \"rb\"))\n",
    "# labels = pickle.load(open(\"/drive/My Drive/Colab Notebooks/labels.pkl\", \"rb\"))"
   ]
  },
  {
   "cell_type": "code",
   "execution_count": 0,
   "metadata": {
    "colab": {},
    "colab_type": "code",
    "id": "3G6W6Iq6NnxK"
   },
   "outputs": [],
   "source": [
    "# perform one-hot encoding on the labels\n",
    "lb = LabelEncoder()\n",
    "labels = lb.fit_transform(labels)\n",
    "labels = to_categorical(labels)"
   ]
  },
  {
   "cell_type": "code",
   "execution_count": 0,
   "metadata": {
    "colab": {},
    "colab_type": "code",
    "id": "nOp1niJ6N6XY"
   },
   "outputs": [],
   "source": [
    "# partition the data into training(60%),validation(20%) and testing(20%)\n",
    "(trainX, testX, trainY, testY) = train_test_split(data, labels,test_size=0.20, stratify=labels, random_state=42)\n",
    "(trainX, validationX, trainY, validationY) = train_test_split(trainX, trainY,test_size=0.25, stratify=trainY, random_state=42)"
   ]
  },
  {
   "cell_type": "code",
   "execution_count": 0,
   "metadata": {
    "colab": {},
    "colab_type": "code",
    "id": "w4qZ3FNJ1KDL"
   },
   "outputs": [],
   "source": []
  },
  {
   "cell_type": "code",
   "execution_count": 0,
   "metadata": {
    "colab": {},
    "colab_type": "code",
    "id": "BxKdoL-0P3J8"
   },
   "outputs": [],
   "source": [
    "# construct the training image generator for data augmentation\n",
    "aug = ImageDataGenerator(\n",
    "\trotation_range=20,\n",
    "\tzoom_range=0.15,\n",
    "\twidth_shift_range=0.2,\n",
    "\theight_shift_range=0.2,\n",
    "\tshear_range=0.15,\n",
    "\thorizontal_flip=True,\n",
    "\tfill_mode=\"nearest\")"
   ]
  },
  {
   "cell_type": "code",
   "execution_count": 82,
   "metadata": {
    "colab": {
     "base_uri": "https://localhost:8080/",
     "height": 55
    },
    "colab_type": "code",
    "executionInfo": {
     "elapsed": 4774,
     "status": "ok",
     "timestamp": 1591638841545,
     "user": {
      "displayName": "Leo Lannes",
      "photoUrl": "",
      "userId": "07944742584050859094"
     },
     "user_tz": -60
    },
    "id": "ZDdU-pHrRY_L",
    "outputId": "625efb23-060d-4df8-fca7-af90f8ddbdcb"
   },
   "outputs": [
    {
     "name": "stdout",
     "output_type": "stream",
     "text": [
      "WARNING:tensorflow:`input_shape` is undefined or non-square, or `rows` is not in [96, 128, 160, 192, 224]. Weights for input shape (224, 224) will be loaded as the default.\n"
     ]
    }
   ],
   "source": [
    "# load the MobileNetV2 network, ensuring the head FC layer sets are\n",
    "# left off\n",
    "baseModel = MobileNetV2(weights=\"imagenet\", include_top=False, input_tensor=Input(shape=(224, 224, 3)))"
   ]
  },
  {
   "cell_type": "code",
   "execution_count": 0,
   "metadata": {
    "colab": {},
    "colab_type": "code",
    "id": "nKrdmBdEYPB5"
   },
   "outputs": [],
   "source": [
    "# loop over the layers in the base model and freeze them. Now, I'm unfreezing the last 8 layers.\n",
    "for layer in baseModel.layers[:-8]: \n",
    "\tlayer.trainable = False"
   ]
  },
  {
   "cell_type": "code",
   "execution_count": 0,
   "metadata": {
    "colab": {},
    "colab_type": "code",
    "id": "LabjctKiRbiy"
   },
   "outputs": [],
   "source": [
    "# construct the head of the model that will be placed on top of the\n",
    "# the base model\n",
    "headModel = baseModel.output\n",
    "headModel = AveragePooling2D(pool_size=(2, 2))(headModel)\n",
    "headModel = Flatten(name=\"flatten\")(headModel)\n",
    "headModel = Dense(512, activation=\"relu\")(headModel) # apagar\n",
    "headModel = Dropout(0.5)(headModel)\n",
    "headModel = Dense(25, activation=\"sigmoid\")(headModel)"
   ]
  },
  {
   "cell_type": "code",
   "execution_count": 0,
   "metadata": {
    "colab": {},
    "colab_type": "code",
    "id": "jTk3gaLhYPCB"
   },
   "outputs": [],
   "source": [
    "# initialize the initial learning rate, number of epochs to train for,\n",
    "# and batch size\n",
    "INIT_LR = 1e-4\n",
    "EPOCHS = 20\n",
    "BS = 32"
   ]
  },
  {
   "cell_type": "code",
   "execution_count": 0,
   "metadata": {
    "colab": {},
    "colab_type": "code",
    "id": "jc0Tqa0FYPCF"
   },
   "outputs": [],
   "source": [
    "# place the head FC model on top of the base model (this will become\n",
    "# the actual model we will train)\n",
    "model = Model(inputs=baseModel.input, outputs=headModel)"
   ]
  },
  {
   "cell_type": "code",
   "execution_count": 0,
   "metadata": {
    "colab": {},
    "colab_type": "code",
    "id": "Jqn678rpRyAq"
   },
   "outputs": [],
   "source": [
    "# compile our model\n",
    "opt = Adam(lr=INIT_LR, decay=INIT_LR / EPOCHS)\n",
    "model.compile(loss=\"categorical_crossentropy\", optimizer=opt, metrics=[\"accuracy\"])"
   ]
  },
  {
   "cell_type": "code",
   "execution_count": 88,
   "metadata": {
    "colab": {
     "base_uri": "https://localhost:8080/",
     "height": 711
    },
    "colab_type": "code",
    "executionInfo": {
     "elapsed": 886141,
     "status": "ok",
     "timestamp": 1591639722947,
     "user": {
      "displayName": "Leo Lannes",
      "photoUrl": "",
      "userId": "07944742584050859094"
     },
     "user_tz": -60
    },
    "id": "ajjN3hiYR15i",
    "outputId": "6e61e1c4-26bd-4c3c-ff21-77c18d206ba6"
   },
   "outputs": [
    {
     "name": "stdout",
     "output_type": "stream",
     "text": [
      "Epoch 1/20\n",
      "108/108 [==============================] - 45s 417ms/step - loss: 2.8332 - accuracy: 0.2121 - val_loss: 1.9941 - val_accuracy: 0.4694\n",
      "Epoch 2/20\n",
      "108/108 [==============================] - 43s 400ms/step - loss: 2.0132 - accuracy: 0.4422 - val_loss: 1.4745 - val_accuracy: 0.6219\n",
      "Epoch 3/20\n",
      "108/108 [==============================] - 43s 402ms/step - loss: 1.5537 - accuracy: 0.5743 - val_loss: 1.6552 - val_accuracy: 0.6202\n",
      "Epoch 4/20\n",
      "108/108 [==============================] - 43s 400ms/step - loss: 1.3015 - accuracy: 0.6297 - val_loss: 1.6652 - val_accuracy: 0.6537\n",
      "Epoch 5/20\n",
      "108/108 [==============================] - 43s 400ms/step - loss: 1.1088 - accuracy: 0.6905 - val_loss: 1.4980 - val_accuracy: 0.6830\n",
      "Epoch 6/20\n",
      "108/108 [==============================] - 43s 400ms/step - loss: 0.9800 - accuracy: 0.7198 - val_loss: 1.6224 - val_accuracy: 0.6891\n",
      "Epoch 7/20\n",
      "108/108 [==============================] - 43s 401ms/step - loss: 0.9100 - accuracy: 0.7311 - val_loss: 1.6889 - val_accuracy: 0.7011\n",
      "Epoch 8/20\n",
      "108/108 [==============================] - 43s 402ms/step - loss: 0.7977 - accuracy: 0.7563 - val_loss: 1.7493 - val_accuracy: 0.6968\n",
      "Epoch 9/20\n",
      "108/108 [==============================] - 43s 399ms/step - loss: 0.7116 - accuracy: 0.7853 - val_loss: 1.8407 - val_accuracy: 0.6942\n",
      "Epoch 10/20\n",
      "108/108 [==============================] - 43s 401ms/step - loss: 0.6808 - accuracy: 0.7986 - val_loss: 1.8199 - val_accuracy: 0.7037\n",
      "Epoch 11/20\n",
      "108/108 [==============================] - 44s 408ms/step - loss: 0.6296 - accuracy: 0.8015 - val_loss: 1.6601 - val_accuracy: 0.7287\n",
      "Epoch 12/20\n",
      "108/108 [==============================] - 44s 407ms/step - loss: 0.5466 - accuracy: 0.8279 - val_loss: 1.5337 - val_accuracy: 0.7321\n",
      "Epoch 13/20\n",
      "108/108 [==============================] - 43s 402ms/step - loss: 0.5468 - accuracy: 0.8282 - val_loss: 1.4900 - val_accuracy: 0.7356\n",
      "Epoch 14/20\n",
      "108/108 [==============================] - 44s 403ms/step - loss: 0.4972 - accuracy: 0.8461 - val_loss: 1.4700 - val_accuracy: 0.7476\n",
      "Epoch 15/20\n",
      "108/108 [==============================] - 43s 400ms/step - loss: 0.4532 - accuracy: 0.8580 - val_loss: 1.4427 - val_accuracy: 0.7528\n",
      "Epoch 16/20\n",
      "108/108 [==============================] - 43s 399ms/step - loss: 0.4324 - accuracy: 0.8644 - val_loss: 1.3259 - val_accuracy: 0.7614\n",
      "Epoch 17/20\n",
      "108/108 [==============================] - 43s 399ms/step - loss: 0.4199 - accuracy: 0.8632 - val_loss: 1.4004 - val_accuracy: 0.7537\n",
      "Epoch 18/20\n",
      "108/108 [==============================] - 43s 398ms/step - loss: 0.3592 - accuracy: 0.8824 - val_loss: 1.3718 - val_accuracy: 0.7649\n",
      "Epoch 19/20\n",
      "108/108 [==============================] - 43s 400ms/step - loss: 0.3789 - accuracy: 0.8847 - val_loss: 1.4496 - val_accuracy: 0.7519\n",
      "Epoch 20/20\n",
      "108/108 [==============================] - 44s 404ms/step - loss: 0.3421 - accuracy: 0.8881 - val_loss: 1.4205 - val_accuracy: 0.7597\n"
     ]
    }
   ],
   "source": [
    "# train the head of the network\n",
    "history = model.fit(\n",
    "\taug.flow(trainX, trainY, batch_size=BS),\n",
    "\tsteps_per_epoch=len(trainX) // BS,\n",
    "\tvalidation_data=(validationX, validationY),\n",
    "\tvalidation_steps=len(validationX) // BS,\n",
    "\tepochs=EPOCHS)"
   ]
  },
  {
   "cell_type": "code",
   "execution_count": 0,
   "metadata": {
    "colab": {},
    "colab_type": "code",
    "id": "FprQ0dJVSTFD"
   },
   "outputs": [],
   "source": [
    "# make predictions on the testing set\n",
    "predictions = model.predict(testX, batch_size=BS)"
   ]
  },
  {
   "cell_type": "code",
   "execution_count": 0,
   "metadata": {
    "colab": {},
    "colab_type": "code",
    "id": "_zhm3mcwnBxH"
   },
   "outputs": [],
   "source": [
    "# for each image in the testing set we need to find the index of the\n",
    "# label with corresponding largest predicted probability\n",
    "predictions = np.argmax(predictions, axis=1)"
   ]
  },
  {
   "cell_type": "code",
   "execution_count": 91,
   "metadata": {
    "colab": {
     "base_uri": "https://localhost:8080/",
     "height": 572
    },
    "colab_type": "code",
    "executionInfo": {
     "elapsed": 889617,
     "status": "ok",
     "timestamp": 1591639726439,
     "user": {
      "displayName": "Leo Lannes",
      "photoUrl": "",
      "userId": "07944742584050859094"
     },
     "user_tz": -60
    },
    "id": "MFxPnxZUnCEu",
    "outputId": "710ac993-7401-4f41-99c6-357c1c06627f"
   },
   "outputs": [
    {
     "name": "stdout",
     "output_type": "stream",
     "text": [
      "                     precision    recall  f1-score   support\n",
      "\n",
      "     airport_inside       0.79      0.63      0.70       122\n",
      "                bar       0.77      0.83      0.80       121\n",
      "            bowling       0.88      0.88      0.88        43\n",
      "             buffet       1.00      0.82      0.90        22\n",
      "             casino       0.76      0.97      0.85       103\n",
      "      church_inside       0.89      0.86      0.87        36\n",
      "           cloister       0.86      0.79      0.83        24\n",
      "       concert_hall       0.80      0.57      0.67        21\n",
      "           elevator       0.94      0.85      0.89        20\n",
      "fastfood_restaurant       0.54      0.57      0.55        23\n",
      "            florist       1.00      0.80      0.89        20\n",
      "           gameroom       0.86      0.72      0.78        25\n",
      "                gym       0.89      0.89      0.89        46\n",
      "          hairsalon       0.70      0.79      0.75        48\n",
      "         inside_bus       1.00      0.80      0.89        20\n",
      "            library       1.00      0.86      0.92        21\n",
      "        locker_room       0.77      0.88      0.82        50\n",
      "       movietheater       0.88      0.83      0.85        35\n",
      "             museum       0.60      0.44      0.51        34\n",
      "         poolinside       0.88      0.63      0.73        35\n",
      "         prisoncell       0.94      0.81      0.87        21\n",
      "         restaurant       0.66      0.74      0.70       103\n",
      "             subway       0.68      0.90      0.78       108\n",
      "       trainstation       0.78      0.60      0.68        30\n",
      "        waitingroom       0.94      0.57      0.71        30\n",
      "\n",
      "           accuracy                           0.78      1161\n",
      "          macro avg       0.83      0.76      0.79      1161\n",
      "       weighted avg       0.79      0.78      0.78      1161\n",
      "\n"
     ]
    }
   ],
   "source": [
    "# show a nicely formatted classification report\n",
    "print(classification_report(testY.argmax(axis=1), predictions,target_names=lb.classes_))"
   ]
  },
  {
   "cell_type": "code",
   "execution_count": 0,
   "metadata": {
    "colab": {},
    "colab_type": "code",
    "id": "c31tLddknIfW"
   },
   "outputs": [],
   "source": [
    "# serialize the model to disk\n",
    "model.save('/drive/My Drive/Colab Notebooks/Models/CNN_Pretrained_V9', save_format=\"h5\")"
   ]
  },
  {
   "cell_type": "code",
   "execution_count": 93,
   "metadata": {
    "colab": {
     "base_uri": "https://localhost:8080/",
     "height": 299
    },
    "colab_type": "code",
    "executionInfo": {
     "elapsed": 890687,
     "status": "ok",
     "timestamp": 1591639727522,
     "user": {
      "displayName": "Leo Lannes",
      "photoUrl": "",
      "userId": "07944742584050859094"
     },
     "user_tz": -60
    },
    "id": "hnABle4anf_f",
    "outputId": "d3d93226-62e6-4a73-99b3-7d44118352a1"
   },
   "outputs": [
    {
     "data": {
      "image/png": "[encoded data removed]",
      "text/plain": [
       "<Figure size 432x288 with 1 Axes>"
      ]
     },
     "metadata": {
      "tags": []
     },
     "output_type": "display_data"
    }
   ],
   "source": [
    "# plot the training accuracy\n",
    "N = EPOCHS\n",
    "plt.style.use(\"ggplot\")\n",
    "plt.figure()\n",
    "plt.plot(np.arange(0, N), history.history[\"accuracy\"], label=\"train_acc\")\n",
    "plt.plot(np.arange(0, N), history.history[\"val_accuracy\"], label=\"val_acc\")\n",
    "plt.title(\"Training Accuracy\")\n",
    "plt.xlabel(\"Epoch #\")\n",
    "plt.ylabel(\"Accuracy\")\n",
    "plt.legend(loc=\"lower left\")\n",
    "plt.savefig('/drive/My Drive/Colab Notebooks/Plots/CNN_Pretrained_V9_ACC.png')"
   ]
  },
  {
   "cell_type": "code",
   "execution_count": 94,
   "metadata": {
    "colab": {
     "base_uri": "https://localhost:8080/",
     "height": 299
    },
    "colab_type": "code",
    "executionInfo": {
     "elapsed": 891267,
     "status": "ok",
     "timestamp": 1591639728110,
     "user": {
      "displayName": "Leo Lannes",
      "photoUrl": "",
      "userId": "07944742584050859094"
     },
     "user_tz": -60
    },
    "id": "NpCGDpslHL_l",
    "outputId": "5d3c64c5-1648-4095-d446-ef44b43ae4ef"
   },
   "outputs": [
    {
     "data": {
      "image/png": "[encoded data removed]",
      "text/plain": [
       "<Figure size 432x288 with 1 Axes>"
      ]
     },
     "metadata": {
      "tags": []
     },
     "output_type": "display_data"
    }
   ],
   "source": [
    "# plot the training loss\n",
    "N = EPOCHS\n",
    "plt.style.use(\"ggplot\")\n",
    "plt.figure()\n",
    "plt.plot(np.arange(0, N), history.history[\"loss\"], label=\"train_loss\")\n",
    "plt.plot(np.arange(0, N), history.history[\"val_loss\"], label=\"val_loss\")\n",
    "plt.title(\"Training Loss\")\n",
    "plt.xlabel(\"Epoch #\")\n",
    "plt.ylabel(\"Loss\")\n",
    "plt.legend(loc=\"lower left\")\n",
    "plt.savefig('/drive/My Drive/Colab Notebooks/Plots/CNN_Pretrained_V9_Loss.png')"
   ]
  }
 ],
 "metadata": {
  "accelerator": "GPU",
  "colab": {
   "collapsed_sections": [],
   "name": "CNN_Pretrained_V9.ipynb",
   "provenance": []
  },
  "kernelspec": {
   "display_name": "Python 3",
   "language": "python",
   "name": "python3"
  },
  "language_info": {
   "codemirror_mode": {
    "name": "ipython",
    "version": 3
   },
   "file_extension": ".py",
   "mimetype": "text/x-python",
   "name": "python",
   "nbconvert_exporter": "python",
   "pygments_lexer": "ipython3",
   "version": "3.7.7"
  }
 },
 "nbformat": 4,
 "nbformat_minor": 1
}
