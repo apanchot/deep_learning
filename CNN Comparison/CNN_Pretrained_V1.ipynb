{
 "cells": [
  {
   "cell_type": "code",
   "execution_count": 1,
   "metadata": {
    "colab": {},
    "colab_type": "code",
    "id": "iQspA0sdt_tW"
   },
   "outputs": [],
   "source": [
    "# import the necessary packages\n",
    "from tensorflow.keras.preprocessing.image import ImageDataGenerator\n",
    "from tensorflow.keras.applications import MobileNetV2\n",
    "from tensorflow.keras.layers import AveragePooling2D\n",
    "from tensorflow.keras.layers import Dropout\n",
    "from tensorflow.keras.layers import Flatten\n",
    "from tensorflow.keras.layers import Dense\n",
    "from tensorflow.keras.layers import Input\n",
    "from tensorflow.keras.models import Model\n",
    "from tensorflow.keras.optimizers import Adam\n",
    "from tensorflow.keras.applications.mobilenet_v2 import preprocess_input\n",
    "from tensorflow.keras.preprocessing.image import img_to_array\n",
    "from tensorflow.keras.preprocessing.image import load_img\n",
    "from tensorflow.keras.utils import to_categorical\n",
    "from sklearn.preprocessing import LabelEncoder\n",
    "from sklearn.model_selection import train_test_split\n",
    "from sklearn.metrics import classification_report\n",
    "from imutils import paths\n",
    "from tqdm import tqdm\n",
    "import matplotlib.pyplot as plt\n",
    "import numpy as np\n",
    "import os\n",
    "import pickle"
   ]
  },
  {
   "cell_type": "code",
   "execution_count": 2,
   "metadata": {
    "colab": {
     "base_uri": "https://localhost:8080/",
     "height": 123
    },
    "colab_type": "code",
    "id": "w0iTWuUZv3Nf",
    "outputId": "b8845fb8-8b27-4ef7-f4e6-152b7ea9cc04"
   },
   "outputs": [],
   "source": [
    "# from google.colab import drive\n",
    "# drive.mount('/drive')"
   ]
  },
  {
   "cell_type": "code",
   "execution_count": 3,
   "metadata": {
    "colab": {},
    "colab_type": "code",
    "id": "7c57-t_kwc4-"
   },
   "outputs": [],
   "source": [
    "imagePaths = list(paths.list_images('original_images'))\n",
    "data = []\n",
    "labels = []"
   ]
  },
  {
   "cell_type": "code",
   "execution_count": 4,
   "metadata": {
    "colab": {
     "base_uri": "https://localhost:8080/",
     "height": 34
    },
    "colab_type": "code",
    "id": "7UkXj8vTw_8o",
    "outputId": "167e961a-d09a-41c7-c582-bc84717f8036"
   },
   "outputs": [
    {
     "name": "stderr",
     "output_type": "stream",
     "text": [
      "100%|█████████████████████████████████████████████████████████████████████████████| 5805/5805 [00:56<00:00, 103.52it/s]\n"
     ]
    }
   ],
   "source": [
    "# loop over the image paths\n",
    "for imagePath in tqdm(imagePaths):\n",
    "\t# extract the class label from the filename\n",
    "\tlabel = imagePath.split(os.path.sep)[-2]\n",
    "\n",
    "\t# load the input image (224x224) and preprocess it\n",
    "\timage = load_img(imagePath, target_size=(224, 224))\n",
    "\timage = img_to_array(image)\n",
    "\timage = preprocess_input(image)\n",
    "\n",
    "\t# update the data and labels lists, respectively\n",
    "\tdata.append(image)\n",
    "\tlabels.append(label)"
   ]
  },
  {
   "cell_type": "code",
   "execution_count": 5,
   "metadata": {
    "colab": {},
    "colab_type": "code",
    "id": "MbuQrEyMGzWE"
   },
   "outputs": [],
   "source": [
    "# convert the data and labels to NumPy arrays\n",
    "data = np.array(data, dtype=\"float32\")\n",
    "labels = np.array(labels)"
   ]
  },
  {
   "cell_type": "code",
   "execution_count": 6,
   "metadata": {
    "colab": {},
    "colab_type": "code",
    "id": "xw7HL33h0Nt7"
   },
   "outputs": [],
   "source": [
    "# # Saving data and labels as a pkl file\n",
    "# pickle.dump(data, open(\"/drive/My Drive/data.pkl\", \"wb\"))\n",
    "# pickle.dump(labels, open(\"/drive/My Drive/labels.pkl\", \"wb\"))"
   ]
  },
  {
   "cell_type": "code",
   "execution_count": 7,
   "metadata": {
    "colab": {},
    "colab_type": "code",
    "id": "ASCunlr52x-Y"
   },
   "outputs": [],
   "source": [
    "# data = pickle.load(open(\"/drive/My Drive/data.pkl\", \"rb\"))\n",
    "# labels = pickle.load(open(\"/drive/My Drive/labels.pkl\", \"rb\"))"
   ]
  },
  {
   "cell_type": "code",
   "execution_count": 8,
   "metadata": {
    "colab": {},
    "colab_type": "code",
    "id": "3G6W6Iq6NnxK"
   },
   "outputs": [],
   "source": [
    "# perform one-hot encoding on the labels\n",
    "lb = LabelEncoder()\n",
    "labels = lb.fit_transform(labels)\n",
    "labels = to_categorical(labels)"
   ]
  },
  {
   "cell_type": "code",
   "execution_count": 9,
   "metadata": {
    "colab": {},
    "colab_type": "code",
    "id": "nOp1niJ6N6XY"
   },
   "outputs": [],
   "source": [
    "# partition the data into training(60%),validation(20%) and testing(20%)\n",
    "(trainX, testX, trainY, testY) = train_test_split(data, labels,test_size=0.20, stratify=labels, random_state=42)\n",
    "(trainX, validationX, trainY, validationY) = train_test_split(trainX, trainY,test_size=0.25, stratify=trainY, random_state=42)"
   ]
  },
  {
   "cell_type": "code",
   "execution_count": 10,
   "metadata": {
    "colab": {},
    "colab_type": "code",
    "id": "BxKdoL-0P3J8"
   },
   "outputs": [],
   "source": [
    "# construct the training image generator for data augmentation\n",
    "aug = ImageDataGenerator(\n",
    "\trotation_range=20,\n",
    "\tzoom_range=0.15,\n",
    "\twidth_shift_range=0.2,\n",
    "\theight_shift_range=0.2,\n",
    "\tshear_range=0.15,\n",
    "\thorizontal_flip=True,\n",
    "\tfill_mode=\"nearest\")"
   ]
  },
  {
   "cell_type": "code",
   "execution_count": 11,
   "metadata": {
    "colab": {
     "base_uri": "https://localhost:8080/",
     "height": 89
    },
    "colab_type": "code",
    "id": "ZDdU-pHrRY_L",
    "outputId": "3fc42609-a136-451f-cea8-569cdbb89eb0"
   },
   "outputs": [
    {
     "name": "stderr",
     "output_type": "stream",
     "text": [
      "C:\\ProgramData\\Anaconda3\\envs\\deeplearning\\lib\\site-packages\\keras_applications\\mobilenet_v2.py:294: UserWarning: `input_shape` is undefined or non-square, or `rows` is not in [96, 128, 160, 192, 224]. Weights for input shape (224, 224) will be loaded as the default.\n",
      "  warnings.warn('`input_shape` is undefined or non-square, '\n"
     ]
    }
   ],
   "source": [
    "# load the MobileNetV2 network, ensuring the head FC layer sets are\n",
    "# left off\n",
    "baseModel = MobileNetV2(weights=\"imagenet\", include_top=False, input_tensor=Input(shape=(224, 224, 3)))"
   ]
  },
  {
   "cell_type": "code",
   "execution_count": 12,
   "metadata": {},
   "outputs": [],
   "source": [
    "# loop over the layers in the base model and freeze them.\n",
    "for layer in baseModel.layers: \n",
    "\tlayer.trainable = False"
   ]
  },
  {
   "cell_type": "code",
   "execution_count": 13,
   "metadata": {
    "colab": {},
    "colab_type": "code",
    "id": "LabjctKiRbiy"
   },
   "outputs": [],
   "source": [
    "# construct the head of the model that will be placed on top of the\n",
    "# the base model\n",
    "headModel = baseModel.output\n",
    "headModel = AveragePooling2D(pool_size=(7, 7))(headModel)\n",
    "headModel = Flatten(name=\"flatten\")(headModel)\n",
    "headModel = Dense(512, activation=\"relu\")(headModel) # apagar\n",
    "headModel = Dropout(0.5)(headModel)\n",
    "headModel = Dense(25, activation=\"softmax\")(headModel)"
   ]
  },
  {
   "cell_type": "code",
   "execution_count": 14,
   "metadata": {},
   "outputs": [],
   "source": [
    "# initialize the initial learning rate, number of epochs to train for,\n",
    "# and batch size\n",
    "INIT_LR = 1e-4\n",
    "EPOCHS = 20\n",
    "BS = 32"
   ]
  },
  {
   "cell_type": "code",
   "execution_count": 15,
   "metadata": {},
   "outputs": [],
   "source": [
    "# place the head FC model on top of the base model (this will become\n",
    "# the actual model we will train)\n",
    "model = Model(inputs=baseModel.input, outputs=headModel)"
   ]
  },
  {
   "cell_type": "code",
   "execution_count": 16,
   "metadata": {
    "colab": {},
    "colab_type": "code",
    "id": "Jqn678rpRyAq"
   },
   "outputs": [],
   "source": [
    "# compile our model\n",
    "opt = Adam(lr=INIT_LR, decay=INIT_LR / EPOCHS)\n",
    "model.compile(loss=\"categorical_crossentropy\", optimizer=opt, metrics=[\"accuracy\"])"
   ]
  },
  {
   "cell_type": "code",
   "execution_count": 17,
   "metadata": {
    "colab": {
     "base_uri": "https://localhost:8080/",
     "height": 710
    },
    "colab_type": "code",
    "id": "ajjN3hiYR15i",
    "outputId": "c9bc0247-0d54-438b-b627-737b027d19fd"
   },
   "outputs": [
    {
     "name": "stdout",
     "output_type": "stream",
     "text": [
      "WARNING:tensorflow:sample_weight modes were coerced from\n",
      "  ...\n",
      "    to  \n",
      "  ['...']\n",
      "Train for 108 steps, validate on 1161 samples\n",
      "Epoch 1/20\n",
      "108/108 [==============================] - 471s 4s/step - loss: 2.9917 - accuracy: 0.1594 - val_loss: 2.3971 - val_accuracy: 0.3220\n",
      "Epoch 2/20\n",
      "108/108 [==============================] - 367s 3s/step - loss: 2.4965 - accuracy: 0.2857 - val_loss: 1.9912 - val_accuracy: 0.4253\n",
      "Epoch 3/20\n",
      "108/108 [==============================] - 405s 4s/step - loss: 2.1897 - accuracy: 0.3599 - val_loss: 1.7170 - val_accuracy: 0.4974\n",
      "Epoch 4/20\n",
      "108/108 [==============================] - 388s 4s/step - loss: 2.0048 - accuracy: 0.4034 - val_loss: 1.5417 - val_accuracy: 0.5347\n",
      "Epoch 5/20\n",
      "108/108 [==============================] - 442s 4s/step - loss: 1.7836 - accuracy: 0.4845 - val_loss: 1.3807 - val_accuracy: 0.5781\n",
      "Epoch 6/20\n",
      "108/108 [==============================] - 422s 4s/step - loss: 1.6955 - accuracy: 0.4862 - val_loss: 1.3311 - val_accuracy: 0.5825\n",
      "Epoch 7/20\n",
      "108/108 [==============================] - 381s 4s/step - loss: 1.5939 - accuracy: 0.5242 - val_loss: 1.2073 - val_accuracy: 0.6181\n",
      "Epoch 8/20\n",
      "108/108 [==============================] - 382s 4s/step - loss: 1.5232 - accuracy: 0.5494 - val_loss: 1.2205 - val_accuracy: 0.6163\n",
      "Epoch 9/20\n",
      "108/108 [==============================] - 372s 3s/step - loss: 1.4447 - accuracy: 0.5633 - val_loss: 1.2030 - val_accuracy: 0.6233\n",
      "Epoch 10/20\n",
      "108/108 [==============================] - 385s 4s/step - loss: 1.3662 - accuracy: 0.5885 - val_loss: 1.0793 - val_accuracy: 0.6649\n",
      "Epoch 11/20\n",
      "108/108 [==============================] - 375s 3s/step - loss: 1.3518 - accuracy: 0.5949 - val_loss: 1.0693 - val_accuracy: 0.6649\n",
      "Epoch 12/20\n",
      "108/108 [==============================] - 369s 3s/step - loss: 1.2916 - accuracy: 0.6021 - val_loss: 1.1212 - val_accuracy: 0.6432\n",
      "Epoch 13/20\n",
      "108/108 [==============================] - 363s 3s/step - loss: 1.2621 - accuracy: 0.6117 - val_loss: 1.0388 - val_accuracy: 0.6753\n",
      "Epoch 14/20\n",
      "108/108 [==============================] - 366s 3s/step - loss: 1.2164 - accuracy: 0.6184 - val_loss: 1.0624 - val_accuracy: 0.6693\n",
      "Epoch 15/20\n",
      "108/108 [==============================] - 370s 3s/step - loss: 1.2005 - accuracy: 0.6282 - val_loss: 1.0511 - val_accuracy: 0.6745\n",
      "Epoch 16/20\n",
      "108/108 [==============================] - 362s 3s/step - loss: 1.1739 - accuracy: 0.6387 - val_loss: 0.9976 - val_accuracy: 0.6858\n",
      "Epoch 17/20\n",
      "108/108 [==============================] - 364s 3s/step - loss: 1.1479 - accuracy: 0.6511 - val_loss: 1.0371 - val_accuracy: 0.6806\n",
      "Epoch 18/20\n",
      "108/108 [==============================] - 427s 4s/step - loss: 1.1299 - accuracy: 0.6517 - val_loss: 0.9822 - val_accuracy: 0.6936\n",
      "Epoch 19/20\n",
      "108/108 [==============================] - 414s 4s/step - loss: 1.1026 - accuracy: 0.6540 - val_loss: 1.0231 - val_accuracy: 0.6814\n",
      "Epoch 20/20\n",
      "108/108 [==============================] - 426s 4s/step - loss: 1.0777 - accuracy: 0.6682 - val_loss: 0.9870 - val_accuracy: 0.6927\n"
     ]
    }
   ],
   "source": [
    "# train the head of the network\n",
    "history = model.fit(\n",
    "\taug.flow(trainX, trainY, batch_size=BS),\n",
    "\tsteps_per_epoch=len(trainX) // BS,\n",
    "\tvalidation_data=(validationX, validationY),\n",
    "\tvalidation_steps=len(validationX) // BS,\n",
    "\tepochs=EPOCHS)"
   ]
  },
  {
   "cell_type": "code",
   "execution_count": 18,
   "metadata": {
    "colab": {},
    "colab_type": "code",
    "id": "FprQ0dJVSTFD"
   },
   "outputs": [],
   "source": [
    "# make predictions on the testing set\n",
    "predictions = model.predict(testX, batch_size=BS)"
   ]
  },
  {
   "cell_type": "code",
   "execution_count": 19,
   "metadata": {
    "colab": {},
    "colab_type": "code",
    "id": "_zhm3mcwnBxH"
   },
   "outputs": [],
   "source": [
    "# for each image in the testing set we need to find the index of the\n",
    "# label with corresponding largest predicted probability\n",
    "predictions = np.argmax(predictions, axis=1)"
   ]
  },
  {
   "cell_type": "code",
   "execution_count": 20,
   "metadata": {
    "colab": {
     "base_uri": "https://localhost:8080/",
     "height": 571
    },
    "colab_type": "code",
    "id": "MFxPnxZUnCEu",
    "outputId": "0a5eba09-c75f-4cb7-dbb9-b6630bd9f462"
   },
   "outputs": [
    {
     "name": "stdout",
     "output_type": "stream",
     "text": [
      "                     precision    recall  f1-score   support\n",
      "\n",
      "     airport_inside       0.64      0.69      0.66       122\n",
      "                bar       0.64      0.71      0.67       121\n",
      "            bowling       0.89      0.79      0.84        43\n",
      "             buffet       0.93      0.64      0.76        22\n",
      "             casino       0.85      0.78      0.81       103\n",
      "      church_inside       0.76      0.89      0.82        36\n",
      "           cloister       0.91      0.88      0.89        24\n",
      "       concert_hall       0.58      0.52      0.55        21\n",
      "           elevator       1.00      0.35      0.52        20\n",
      "fastfood_restaurant       0.70      0.30      0.42        23\n",
      "            florist       1.00      0.55      0.71        20\n",
      "           gameroom       0.59      0.88      0.71        25\n",
      "                gym       0.93      0.80      0.86        46\n",
      "          hairsalon       0.64      0.79      0.71        48\n",
      "         inside_bus       0.90      0.90      0.90        20\n",
      "            library       0.75      1.00      0.86        21\n",
      "        locker_room       0.61      0.68      0.64        50\n",
      "       movietheater       0.86      0.69      0.76        35\n",
      "             museum       0.71      0.29      0.42        34\n",
      "         poolinside       0.96      0.63      0.76        35\n",
      "         prisoncell       1.00      0.38      0.55        21\n",
      "         restaurant       0.53      0.89      0.67       103\n",
      "             subway       0.71      0.73      0.72       108\n",
      "       trainstation       0.73      0.37      0.49        30\n",
      "        waitingroom       0.77      0.57      0.65        30\n",
      "\n",
      "           accuracy                           0.71      1161\n",
      "          macro avg       0.78      0.67      0.69      1161\n",
      "       weighted avg       0.74      0.71      0.70      1161\n",
      "\n"
     ]
    }
   ],
   "source": [
    "# show a nicely formatted classification report\n",
    "print(classification_report(testY.argmax(axis=1), predictions,target_names=lb.classes_))"
   ]
  },
  {
   "cell_type": "code",
   "execution_count": 21,
   "metadata": {
    "colab": {},
    "colab_type": "code",
    "id": "c31tLddknIfW"
   },
   "outputs": [],
   "source": [
    "# serialize the model to disk\n",
    "model.save('Models/CNN_Pretrained_V1', save_format=\"h5\")"
   ]
  },
  {
   "cell_type": "code",
   "execution_count": 22,
   "metadata": {
    "colab": {
     "base_uri": "https://localhost:8080/",
     "height": 299
    },
    "colab_type": "code",
    "id": "hnABle4anf_f",
    "outputId": "e59cfac8-1326-49af-e2bb-446b1e90c825"
   },
   "outputs": [
    {
     "data": {
      "image/png": "[encoded data removed]",
      "text/plain": [
       "<Figure size 432x288 with 1 Axes>"
      ]
     },
     "metadata": {},
     "output_type": "display_data"
    }
   ],
   "source": [
    "# plot the training accuracy\n",
    "N = EPOCHS\n",
    "plt.style.use(\"ggplot\")\n",
    "plt.figure()\n",
    "plt.plot(np.arange(0, N), history.history[\"accuracy\"], label=\"train_acc\")\n",
    "plt.plot(np.arange(0, N), history.history[\"val_accuracy\"], label=\"val_acc\")\n",
    "plt.title(\"Training Accuracy\")\n",
    "plt.xlabel(\"Epoch #\")\n",
    "plt.ylabel(\"Accuracy\")\n",
    "plt.legend(loc=\"lower left\")\n",
    "plt.savefig('Plots/CNN_Pretrained_V1_ACC.png')"
   ]
  },
  {
   "cell_type": "code",
   "execution_count": 23,
   "metadata": {
    "colab": {},
    "colab_type": "code",
    "id": "NpCGDpslHL_l"
   },
   "outputs": [
    {
     "data": {
      "image/png": "[encoded data removed]",
      "text/plain": [
       "<Figure size 432x288 with 1 Axes>"
      ]
     },
     "metadata": {},
     "output_type": "display_data"
    }
   ],
   "source": [
    "# plot the training loss\n",
    "N = EPOCHS\n",
    "plt.style.use(\"ggplot\")\n",
    "plt.figure()\n",
    "plt.plot(np.arange(0, N), history.history[\"loss\"], label=\"train_loss\")\n",
    "plt.plot(np.arange(0, N), history.history[\"val_loss\"], label=\"val_loss\")\n",
    "plt.title(\"Training Loss\")\n",
    "plt.xlabel(\"Epoch #\")\n",
    "plt.ylabel(\"Loss\")\n",
    "plt.legend(loc=\"lower left\")\n",
    "plt.savefig('Plots/CNN_Pretrained_V1_Loss.png')"
   ]
  }
 ],
 "metadata": {
  "accelerator": "GPU",
  "colab": {
   "name": "CNN with pretrained models - Bruno.ipynb",
   "provenance": []
  },
  "kernelspec": {
   "display_name": "Python 3",
   "language": "python",
   "name": "python3"
  },
  "language_info": {
   "codemirror_mode": {
    "name": "ipython",
    "version": 3
   },
   "file_extension": ".py",
   "mimetype": "text/x-python",
   "name": "python",
   "nbconvert_exporter": "python",
   "pygments_lexer": "ipython3",
   "version": "3.7.7"
  }
 },
 "nbformat": 4,
 "nbformat_minor": 1
}
