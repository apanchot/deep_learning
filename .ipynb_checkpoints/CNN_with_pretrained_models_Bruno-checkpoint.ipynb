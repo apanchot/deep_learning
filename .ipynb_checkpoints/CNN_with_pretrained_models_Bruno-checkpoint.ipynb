{
 "cells": [
  {
   "cell_type": "code",
   "execution_count": 0,
   "metadata": {
    "colab": {},
    "colab_type": "code",
    "id": "iQspA0sdt_tW"
   },
   "outputs": [],
   "source": [
    "# import the necessary packages\n",
    "from tensorflow.keras.preprocessing.image import ImageDataGenerator\n",
    "from tensorflow.keras.applications import MobileNetV2\n",
    "from tensorflow.keras.layers import AveragePooling2D\n",
    "from tensorflow.keras.layers import Dropout\n",
    "from tensorflow.keras.layers import Flatten\n",
    "from tensorflow.keras.layers import Dense\n",
    "from tensorflow.keras.layers import Input\n",
    "from tensorflow.keras.models import Model\n",
    "from tensorflow.keras.optimizers import Adam\n",
    "from tensorflow.keras.applications.mobilenet_v2 import preprocess_input\n",
    "from tensorflow.keras.preprocessing.image import img_to_array\n",
    "from tensorflow.keras.preprocessing.image import load_img\n",
    "from tensorflow.keras.utils import to_categorical\n",
    "from sklearn.preprocessing import LabelEncoder\n",
    "from sklearn.model_selection import train_test_split\n",
    "from sklearn.metrics import classification_report\n",
    "from imutils import paths\n",
    "from tqdm import tqdm\n",
    "import matplotlib.pyplot as plt\n",
    "import numpy as np\n",
    "import os\n",
    "import pickle"
   ]
  },
  {
   "cell_type": "code",
   "execution_count": 4,
   "metadata": {
    "colab": {
     "base_uri": "https://localhost:8080/",
     "height": 123
    },
    "colab_type": "code",
    "id": "w0iTWuUZv3Nf",
    "outputId": "b8845fb8-8b27-4ef7-f4e6-152b7ea9cc04"
   },
   "outputs": [
    {
     "name": "stdout",
     "output_type": "stream",
     "text": [
      "Go to this URL in a browser: https://accounts.google.com/o/oauth2/auth?client_id=947318989803-6bn6qk8qdgf4n4g3pfee6491hc0brc4i.apps.googleusercontent.com&redirect_uri=urn%3aietf%3awg%3aoauth%3a2.0%3aoob&response_type=code&scope=email%20https%3a%2f%2fwww.googleapis.com%2fauth%2fdocs.test%20https%3a%2f%2fwww.googleapis.com%2fauth%2fdrive%20https%3a%2f%2fwww.googleapis.com%2fauth%2fdrive.photos.readonly%20https%3a%2f%2fwww.googleapis.com%2fauth%2fpeopleapi.readonly\n",
      "\n",
      "Enter your authorization code:\n",
      "··········\n",
      "Mounted at /drive\n"
     ]
    }
   ],
   "source": [
    "# from google.colab import drive\n",
    "# drive.mount('/drive')"
   ]
  },
  {
   "cell_type": "code",
   "execution_count": 0,
   "metadata": {
    "colab": {},
    "colab_type": "code",
    "id": "7c57-t_kwc4-"
   },
   "outputs": [],
   "source": [
    "imagePaths = list(paths.list_images('/drive/My Drive/original_images/'))\n",
    "data = []\n",
    "labels = []"
   ]
  },
  {
   "cell_type": "code",
   "execution_count": 0,
   "metadata": {
    "colab": {
     "base_uri": "https://localhost:8080/",
     "height": 34
    },
    "colab_type": "code",
    "id": "7UkXj8vTw_8o",
    "outputId": "167e961a-d09a-41c7-c582-bc84717f8036"
   },
   "outputs": [
    {
     "name": "stderr",
     "output_type": "stream",
     "text": [
      "100%|██████████| 5805/5805 [00:55<00:00, 103.98it/s]\n"
     ]
    }
   ],
   "source": [
    "# loop over the image paths\n",
    "for imagePath in tqdm(imagePaths):\n",
    "\t# extract the class label from the filename\n",
    "\tlabel = imagePath.split(os.path.sep)[-2]\n",
    "\n",
    "\t# load the input image (224x224) and preprocess it\n",
    "\timage = load_img(imagePath, target_size=(224, 224))\n",
    "\timage = img_to_array(image)\n",
    "\timage = preprocess_input(image)\n",
    "\n",
    "\t# update the data and labels lists, respectively\n",
    "\tdata.append(image)\n",
    "\tlabels.append(label)"
   ]
  },
  {
   "cell_type": "code",
   "execution_count": 0,
   "metadata": {
    "colab": {},
    "colab_type": "code",
    "id": "MbuQrEyMGzWE"
   },
   "outputs": [],
   "source": [
    "# convert the data and labels to NumPy arrays\n",
    "data = np.array(data, dtype=\"float32\")\n",
    "labels = np.array(labels)"
   ]
  },
  {
   "cell_type": "code",
   "execution_count": 0,
   "metadata": {
    "colab": {},
    "colab_type": "code",
    "id": "xw7HL33h0Nt7"
   },
   "outputs": [],
   "source": [
    "# # Saving data and labels as a pkl file\n",
    "# pickle.dump(data, open(\"/drive/My Drive/data.pkl\", \"wb\"))\n",
    "# pickle.dump(labels, open(\"/drive/My Drive/labels.pkl\", \"wb\"))"
   ]
  },
  {
   "cell_type": "code",
   "execution_count": 0,
   "metadata": {
    "colab": {},
    "colab_type": "code",
    "id": "ASCunlr52x-Y"
   },
   "outputs": [],
   "source": [
    "# data = pickle.load(open(\"/drive/My Drive/data.pkl\", \"rb\"))\n",
    "# labels = pickle.load(open(\"/drive/My Drive/labels.pkl\", \"rb\"))"
   ]
  },
  {
   "cell_type": "code",
   "execution_count": 0,
   "metadata": {
    "colab": {},
    "colab_type": "code",
    "id": "3G6W6Iq6NnxK"
   },
   "outputs": [],
   "source": [
    "# perform one-hot encoding on the labels\n",
    "lb = LabelEncoder()\n",
    "labels = lb.fit_transform(labels)\n",
    "labels = to_categorical(labels)"
   ]
  },
  {
   "cell_type": "code",
   "execution_count": 0,
   "metadata": {
    "colab": {},
    "colab_type": "code",
    "id": "nOp1niJ6N6XY"
   },
   "outputs": [],
   "source": [
    "# partition the data into training and testing splits using 80% of\n",
    "# the data for training and the remaining 20% for testing\n",
    "(trainX, testX, trainY, testY) = train_test_split(data, labels,\ttest_size=0.20, stratify=labels, random_state=42)"
   ]
  },
  {
   "cell_type": "code",
   "execution_count": 0,
   "metadata": {
    "colab": {},
    "colab_type": "code",
    "id": "BxKdoL-0P3J8"
   },
   "outputs": [],
   "source": [
    "# construct the training image generator for data augmentation\n",
    "aug = ImageDataGenerator(\n",
    "\trotation_range=20,\n",
    "\tzoom_range=0.15,\n",
    "\twidth_shift_range=0.2,\n",
    "\theight_shift_range=0.2,\n",
    "\tshear_range=0.15,\n",
    "\thorizontal_flip=True,\n",
    "\tfill_mode=\"nearest\")"
   ]
  },
  {
   "cell_type": "code",
   "execution_count": 9,
   "metadata": {
    "colab": {
     "base_uri": "https://localhost:8080/",
     "height": 89
    },
    "colab_type": "code",
    "id": "ZDdU-pHrRY_L",
    "outputId": "3fc42609-a136-451f-cea8-569cdbb89eb0"
   },
   "outputs": [
    {
     "name": "stdout",
     "output_type": "stream",
     "text": [
      "WARNING:tensorflow:`input_shape` is undefined or non-square, or `rows` is not in [96, 128, 160, 192, 224]. Weights for input shape (224, 224) will be loaded as the default.\n",
      "Downloading data from https://storage.googleapis.com/tensorflow/keras-applications/mobilenet_v2/mobilenet_v2_weights_tf_dim_ordering_tf_kernels_1.0_224_no_top.h5\n",
      "9412608/9406464 [==============================] - 0s 0us/step\n"
     ]
    }
   ],
   "source": [
    "# load the MobileNetV2 network, ensuring the head FC layer sets are\n",
    "# left off\n",
    "baseModel = MobileNetV2(weights=\"imagenet\", include_top=False, input_tensor=Input(shape=(224, 224, 3)))"
   ]
  },
  {
   "cell_type": "code",
   "execution_count": 0,
   "metadata": {
    "colab": {},
    "colab_type": "code",
    "id": "LabjctKiRbiy"
   },
   "outputs": [],
   "source": [
    "# construct the head of the model that will be placed on top of the\n",
    "# the base model\n",
    "headModel = baseModel.output\n",
    "headModel = AveragePooling2D(pool_size=(7, 7))(headModel)\n",
    "headModel = Flatten(name=\"flatten\")(headModel)\n",
    "headModel = Dense(512, activation=\"relu\")(headModel) # apagar\n",
    "headModel = Dropout(0.5)(headModel)\n",
    "headModel = Dense(25, activation=\"softmax\")(headModel)"
   ]
  },
  {
   "cell_type": "code",
   "execution_count": 0,
   "metadata": {
    "colab": {},
    "colab_type": "code",
    "id": "Qc6DI-WlRrFM"
   },
   "outputs": [],
   "source": [
    "# place the head FC model on top of the base model (this will become\n",
    "# the actual model we will train)\n",
    "model = Model(inputs=baseModel.input, outputs=headModel)"
   ]
  },
  {
   "cell_type": "code",
   "execution_count": 0,
   "metadata": {
    "colab": {},
    "colab_type": "code",
    "id": "CuTxegm5Ru4b"
   },
   "outputs": [],
   "source": [
    "# loop over the layers in the base model and freeze them. Now, I'm unfreezing the last 4 layers.\n",
    "for layer in baseModel.layers[:-4]: \n",
    "\tlayer.trainable = False"
   ]
  },
  {
   "cell_type": "code",
   "execution_count": 0,
   "metadata": {
    "colab": {},
    "colab_type": "code",
    "id": "9kQs0ruJv1Pm"
   },
   "outputs": [],
   "source": [
    "# initialize the initial learning rate, number of epochs to train for,\n",
    "# and batch size\n",
    "INIT_LR = 1e-4\n",
    "EPOCHS = 20\n",
    "BS = 32"
   ]
  },
  {
   "cell_type": "code",
   "execution_count": 0,
   "metadata": {
    "colab": {},
    "colab_type": "code",
    "id": "Jqn678rpRyAq"
   },
   "outputs": [],
   "source": [
    "# compile our model\n",
    "opt = Adam(lr=INIT_LR, decay=INIT_LR / EPOCHS)\n",
    "model.compile(loss=\"categorical_crossentropy\", optimizer=opt, metrics=[\"accuracy\"])"
   ]
  },
  {
   "cell_type": "code",
   "execution_count": 16,
   "metadata": {
    "colab": {
     "base_uri": "https://localhost:8080/",
     "height": 710
    },
    "colab_type": "code",
    "id": "ajjN3hiYR15i",
    "outputId": "c9bc0247-0d54-438b-b627-737b027d19fd"
   },
   "outputs": [
    {
     "name": "stdout",
     "output_type": "stream",
     "text": [
      "Epoch 1/20\n",
      "145/145 [==============================] - 62s 426ms/step - loss: 2.4061 - accuracy: 0.3257 - val_loss: 1.3641 - val_accuracy: 0.5883\n",
      "Epoch 2/20\n",
      "145/145 [==============================] - 59s 406ms/step - loss: 1.4473 - accuracy: 0.5859 - val_loss: 0.9707 - val_accuracy: 0.6951\n",
      "Epoch 3/20\n",
      "145/145 [==============================] - 59s 407ms/step - loss: 1.1399 - accuracy: 0.6622 - val_loss: 0.7957 - val_accuracy: 0.7511\n",
      "Epoch 4/20\n",
      "145/145 [==============================] - 59s 410ms/step - loss: 0.9836 - accuracy: 0.6990 - val_loss: 0.7217 - val_accuracy: 0.7657\n",
      "Epoch 5/20\n",
      "145/145 [==============================] - 60s 412ms/step - loss: 0.8902 - accuracy: 0.7212 - val_loss: 0.6732 - val_accuracy: 0.7769\n",
      "Epoch 6/20\n",
      "145/145 [==============================] - 60s 416ms/step - loss: 0.8444 - accuracy: 0.7357 - val_loss: 0.6354 - val_accuracy: 0.7864\n",
      "Epoch 7/20\n",
      "145/145 [==============================] - 60s 414ms/step - loss: 0.7833 - accuracy: 0.7621 - val_loss: 0.5961 - val_accuracy: 0.7984\n",
      "Epoch 8/20\n",
      "145/145 [==============================] - 60s 415ms/step - loss: 0.7213 - accuracy: 0.7697 - val_loss: 0.5969 - val_accuracy: 0.8053\n",
      "Epoch 9/20\n",
      "145/145 [==============================] - 60s 415ms/step - loss: 0.6684 - accuracy: 0.7864 - val_loss: 0.5875 - val_accuracy: 0.8096\n",
      "Epoch 10/20\n",
      "145/145 [==============================] - 60s 414ms/step - loss: 0.6247 - accuracy: 0.8012 - val_loss: 0.5629 - val_accuracy: 0.8234\n",
      "Epoch 11/20\n",
      "145/145 [==============================] - 60s 411ms/step - loss: 0.5908 - accuracy: 0.8094 - val_loss: 0.5754 - val_accuracy: 0.8191\n",
      "Epoch 12/20\n",
      "145/145 [==============================] - 60s 411ms/step - loss: 0.5772 - accuracy: 0.8135 - val_loss: 0.5611 - val_accuracy: 0.8174\n",
      "Epoch 13/20\n",
      "145/145 [==============================] - 60s 413ms/step - loss: 0.5338 - accuracy: 0.8320 - val_loss: 0.5553 - val_accuracy: 0.8234\n",
      "Epoch 14/20\n",
      "145/145 [==============================] - 59s 408ms/step - loss: 0.5254 - accuracy: 0.8291 - val_loss: 0.5446 - val_accuracy: 0.8252\n",
      "Epoch 15/20\n",
      "145/145 [==============================] - 58s 401ms/step - loss: 0.5048 - accuracy: 0.8374 - val_loss: 0.5568 - val_accuracy: 0.8183\n",
      "Epoch 16/20\n",
      "145/145 [==============================] - 59s 405ms/step - loss: 0.4672 - accuracy: 0.8456 - val_loss: 0.5602 - val_accuracy: 0.8191\n",
      "Epoch 17/20\n",
      "145/145 [==============================] - 60s 411ms/step - loss: 0.4580 - accuracy: 0.8513 - val_loss: 0.5479 - val_accuracy: 0.8277\n",
      "Epoch 18/20\n",
      "145/145 [==============================] - 60s 415ms/step - loss: 0.4249 - accuracy: 0.8591 - val_loss: 0.5504 - val_accuracy: 0.8217\n",
      "Epoch 19/20\n",
      "145/145 [==============================] - 60s 411ms/step - loss: 0.4124 - accuracy: 0.8684 - val_loss: 0.5480 - val_accuracy: 0.8277\n",
      "Epoch 20/20\n",
      "145/145 [==============================] - 59s 409ms/step - loss: 0.3829 - accuracy: 0.8736 - val_loss: 0.5559 - val_accuracy: 0.8277\n"
     ]
    }
   ],
   "source": [
    "# train the head of the network\n",
    "history = model.fit(\n",
    "\taug.flow(trainX, trainY, batch_size=BS),\n",
    "\tsteps_per_epoch=len(trainX) // BS,\n",
    "\tvalidation_data=(testX, testY),\n",
    "\tvalidation_steps=len(testX) // BS,\n",
    "\tepochs=EPOCHS)"
   ]
  },
  {
   "cell_type": "code",
   "execution_count": 0,
   "metadata": {
    "colab": {},
    "colab_type": "code",
    "id": "FprQ0dJVSTFD"
   },
   "outputs": [],
   "source": [
    "# make predictions on the testing set\n",
    "predictions = model.predict(testX, batch_size=BS)"
   ]
  },
  {
   "cell_type": "code",
   "execution_count": 0,
   "metadata": {
    "colab": {},
    "colab_type": "code",
    "id": "_zhm3mcwnBxH"
   },
   "outputs": [],
   "source": [
    "# for each image in the testing set we need to find the index of the\n",
    "# label with corresponding largest predicted probability\n",
    "predictions = np.argmax(predictions, axis=1)"
   ]
  },
  {
   "cell_type": "code",
   "execution_count": 19,
   "metadata": {
    "colab": {
     "base_uri": "https://localhost:8080/",
     "height": 571
    },
    "colab_type": "code",
    "id": "MFxPnxZUnCEu",
    "outputId": "0a5eba09-c75f-4cb7-dbb9-b6630bd9f462"
   },
   "outputs": [
    {
     "name": "stdout",
     "output_type": "stream",
     "text": [
      "                     precision    recall  f1-score   support\n",
      "\n",
      "     airport_inside       0.70      0.84      0.76       122\n",
      "                bar       0.81      0.75      0.78       121\n",
      "            bowling       0.95      0.88      0.92        43\n",
      "             buffet       0.95      0.95      0.95        22\n",
      "             casino       0.93      0.94      0.94       103\n",
      "      church_inside       0.97      0.83      0.90        36\n",
      "           cloister       0.92      1.00      0.96        24\n",
      "       concert_hall       0.87      0.95      0.91        21\n",
      "           elevator       0.88      0.75      0.81        20\n",
      "fastfood_restaurant       0.64      0.70      0.67        23\n",
      "            florist       1.00      0.90      0.95        20\n",
      "           gameroom       0.62      0.84      0.71        25\n",
      "                gym       0.94      0.96      0.95        46\n",
      "          hairsalon       0.93      0.88      0.90        48\n",
      "         inside_bus       1.00      0.80      0.89        20\n",
      "            library       1.00      0.90      0.95        21\n",
      "        locker_room       0.86      0.74      0.80        50\n",
      "       movietheater       0.97      0.97      0.97        35\n",
      "             museum       0.60      0.62      0.61        34\n",
      "         poolinside       0.94      0.86      0.90        35\n",
      "         prisoncell       0.86      0.86      0.86        21\n",
      "         restaurant       0.80      0.82      0.81       103\n",
      "             subway       0.77      0.72      0.75       108\n",
      "       trainstation       0.61      0.67      0.63        30\n",
      "        waitingroom       0.83      0.83      0.83        30\n",
      "\n",
      "           accuracy                           0.83      1161\n",
      "          macro avg       0.85      0.84      0.84      1161\n",
      "       weighted avg       0.84      0.83      0.83      1161\n",
      "\n"
     ]
    }
   ],
   "source": [
    "# show a nicely formatted classification report\n",
    "print(classification_report(testY.argmax(axis=1), predictions,\ttarget_names=lb.classes_))"
   ]
  },
  {
   "cell_type": "code",
   "execution_count": 0,
   "metadata": {
    "colab": {},
    "colab_type": "code",
    "id": "c31tLddknIfW"
   },
   "outputs": [],
   "source": [
    "# serialize the model to disk\n",
    "model.save('/drive/My Drive/model8', save_format=\"h5\")"
   ]
  },
  {
   "cell_type": "code",
   "execution_count": 21,
   "metadata": {
    "colab": {
     "base_uri": "https://localhost:8080/",
     "height": 299
    },
    "colab_type": "code",
    "id": "hnABle4anf_f",
    "outputId": "e59cfac8-1326-49af-e2bb-446b1e90c825"
   },
   "outputs": [
    {
     "data": {
      "image/png": "[encoded data removed]",
      "text/plain": [
       "<Figure size 432x288 with 1 Axes>"
      ]
     },
     "metadata": {
      "tags": []
     },
     "output_type": "display_data"
    }
   ],
   "source": [
    "# plot the training loss and accuracy\n",
    "N = EPOCHS\n",
    "plt.style.use(\"ggplot\")\n",
    "plt.figure()\n",
    "plt.plot(np.arange(0, N), history.history[\"loss\"], label=\"train_loss\")\n",
    "plt.plot(np.arange(0, N), history.history[\"val_loss\"], label=\"val_loss\")\n",
    "plt.plot(np.arange(0, N), history.history[\"accuracy\"], label=\"train_acc\")\n",
    "plt.plot(np.arange(0, N), history.history[\"val_accuracy\"], label=\"val_acc\")\n",
    "plt.title(\"Training Loss and Accuracy\")\n",
    "plt.xlabel(\"Epoch #\")\n",
    "plt.ylabel(\"Loss/Accuracy\")\n",
    "plt.legend(loc=\"lower left\")\n",
    "plt.savefig('/drive/My Drive/plot-model8.png')"
   ]
  },
  {
   "cell_type": "code",
   "execution_count": 0,
   "metadata": {
    "colab": {},
    "colab_type": "code",
    "id": "NpCGDpslHL_l"
   },
   "outputs": [],
   "source": []
  }
 ],
 "metadata": {
  "accelerator": "GPU",
  "colab": {
   "name": "CNN with pretrained models - Bruno.ipynb",
   "provenance": []
  },
  "kernelspec": {
   "display_name": "Python 3",
   "language": "python",
   "name": "python3"
  },
  "language_info": {
   "codemirror_mode": {
    "name": "ipython",
    "version": 3
   },
   "file_extension": ".py",
   "mimetype": "text/x-python",
   "name": "python",
   "nbconvert_exporter": "python",
   "pygments_lexer": "ipython3",
   "version": "3.7.5"
  }
 },
 "nbformat": 4,
 "nbformat_minor": 1
}
