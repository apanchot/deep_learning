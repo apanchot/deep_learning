{
 "cells": [
  {
   "cell_type": "code",
   "execution_count": 0,
   "metadata": {
    "colab": {},
    "colab_type": "code",
    "id": "KUmYNRcIrMiG"
   },
   "outputs": [],
   "source": [
    "import tensorflow as tf\n",
    "import tensorflow.keras.backend as K\n",
    "from tensorflow.keras.applications import MobileNetV2\n",
    "from tensorflow.keras.preprocessing.image import img_to_array\n",
    "from tensorflow.keras.preprocessing.image import load_img\n",
    "from tensorflow.keras.applications.mobilenet_v2 import preprocess_input, decode_predictions\n",
    "from tensorflow.keras.models import Model, load_model\n",
    "import numpy as np\n",
    "import os\n",
    "import matplotlib.pyplot as plt\n",
    "import cv2\n",
    "from google.colab.patches import cv2_imshow \n",
    "from imutils import paths\n",
    "from tqdm import tqdm"
   ]
  },
  {
   "cell_type": "code",
   "execution_count": 2,
   "metadata": {
    "colab": {
     "base_uri": "https://localhost:8080/",
     "height": 123
    },
    "colab_type": "code",
    "id": "Idx3C1aCrV1w",
    "outputId": "66b72e3f-c188-4b61-ab5d-c902089aacc7"
   },
   "outputs": [
    {
     "name": "stdout",
     "output_type": "stream",
     "text": [
      "Go to this URL in a browser: https://accounts.google.com/o/oauth2/auth?client_id=947318989803-6bn6qk8qdgf4n4g3pfee6491hc0brc4i.apps.googleusercontent.com&redirect_uri=urn%3aietf%3awg%3aoauth%3a2.0%3aoob&response_type=code&scope=email%20https%3a%2f%2fwww.googleapis.com%2fauth%2fdocs.test%20https%3a%2f%2fwww.googleapis.com%2fauth%2fdrive%20https%3a%2f%2fwww.googleapis.com%2fauth%2fdrive.photos.readonly%20https%3a%2f%2fwww.googleapis.com%2fauth%2fpeopleapi.readonly\n",
      "\n",
      "Enter your authorization code:\n",
      "··········\n",
      "Mounted at /drive\n"
     ]
    }
   ],
   "source": [
    "# from google.colab import drive\n",
    "# drive.mount('/drive')"
   ]
  },
  {
   "cell_type": "code",
   "execution_count": 0,
   "metadata": {
    "colab": {},
    "colab_type": "code",
    "id": "uqEQb7nHrwHZ"
   },
   "outputs": [],
   "source": [
    "model = load_model('/drive/My Drive/model8')"
   ]
  },
  {
   "cell_type": "code",
   "execution_count": 0,
   "metadata": {
    "colab": {},
    "colab_type": "code",
    "id": "peECnJBbJfEn"
   },
   "outputs": [],
   "source": [
    "dict_map = {\n",
    "    0: 'airport_inside', 1: 'bar', 2: 'bowling', 3: 'buffet', 4: 'casino', 5: 'church_inside', 6: 'cloister',\n",
    "    7: 'concert_hall', 8: 'elevator', 9: 'fastfood_restaurant', 10: 'florist', 11: 'gameroom', 12: 'gym',\n",
    "    13: 'hairsalon', 14: 'inside_bus', 15: 'library', 16: 'locker_room', 17: 'movietheater', 18: 'museum', \n",
    "    19: 'poolinside', 20: 'prisoncell', 21: 'restaurant', 22: 'subway', 23: 'trainstation', 24: 'waitingroom'\n",
    "}"
   ]
  },
  {
   "cell_type": "code",
   "execution_count": 0,
   "metadata": {
    "colab": {},
    "colab_type": "code",
    "id": "pKXBKCNeswBK"
   },
   "outputs": [],
   "source": [
    "def heatmap(orig, intensity=0.5, res=250):\n",
    "\n",
    "  label = orig.split(os.path.sep)[-2]\n",
    "  name_image = orig.split(os.path.sep)[-1][:-4]\n",
    "\n",
    "  img = load_img(orig, target_size=(224, 224))\n",
    "\n",
    "  x = img_to_array(img)\n",
    "  x = np.expand_dims(x, axis=0)\n",
    "  x = preprocess_input(x)\n",
    "\n",
    "  preds = model.predict(x)\n",
    "  label_predict = dict_map[np.argmax(preds)]\n",
    "\n",
    "  with tf.GradientTape() as tape:\n",
    "    last_conv_layer = model.get_layer('Conv_1_bn') # last convolutional layer\n",
    "    iterate = Model([model.inputs], [model.output, last_conv_layer.output])\n",
    "    model_out, last_conv_layer = iterate(x)\n",
    "    class_out = model_out[:, np.argmax(model_out[0])]\n",
    "    grads = tape.gradient(class_out, last_conv_layer)\n",
    "    pooled_grads = K.mean(grads, axis=(0, 1, 2))\n",
    "    \n",
    "  heatmap = tf.reduce_mean(tf.multiply(pooled_grads, last_conv_layer), axis=-1)\n",
    "  heatmap = np.maximum(heatmap, 0)\n",
    "  heatmap /= np.max(heatmap)\n",
    "  heatmap = heatmap.reshape((7, 7))\n",
    "\n",
    "  img = cv2.imread(orig)\n",
    "\n",
    "  heatmap = cv2.resize(heatmap, (img.shape[1], img.shape[0]))\n",
    "\n",
    "  heatmap = cv2.applyColorMap(np.uint8(255*heatmap), cv2.COLORMAP_JET)\n",
    "\n",
    "  img = heatmap * intensity + img\n",
    "\n",
    "  font = cv2.FONT_HERSHEY_DUPLEX\n",
    "  text = f'{label_predict}: {str(round(preds.max(),4))}'\n",
    "  color = (0, 255, 0) if label == label_predict else (0, 0, 255) \n",
    "\n",
    "  cv2.putText(img, \n",
    "              text, \n",
    "              (5, (int) (img.shape[0]*0.97)), \n",
    "              font, \n",
    "              0.00162162 * img.shape[1],\n",
    "              color,\n",
    "              2, \n",
    "              cv2.LINE_AA)\n",
    "  cv2.rectangle(img, (0, 0), (img.shape[1], img.shape[0]), color, 6)\n",
    "\n",
    "  # cv2_imshow(img)\n",
    "\n",
    "  filename = '/drive/My Drive/heatmap_new_images/heatmap_%s.png' % (name_image)\n",
    "  cv2.imwrite(filename,img)"
   ]
  },
  {
   "cell_type": "code",
   "execution_count": 0,
   "metadata": {
    "colab": {},
    "colab_type": "code",
    "id": "g8Z2NrYTg3F0"
   },
   "outputs": [],
   "source": [
    "imagePaths = list(paths.list_images('/drive/My Drive/new_images/'))\n",
    "for imagePath in imagePaths:\n",
    "  heatmap(imagePath)"
   ]
  },
  {
   "cell_type": "code",
   "execution_count": 0,
   "metadata": {
    "colab": {},
    "colab_type": "code",
    "id": "MgrOO6vDhFN5"
   },
   "outputs": [],
   "source": []
  }
 ],
 "metadata": {
  "colab": {
   "name": "Heatmap.ipynb",
   "provenance": []
  },
  "kernelspec": {
   "display_name": "Python 3",
   "language": "python",
   "name": "python3"
  },
  "language_info": {
   "codemirror_mode": {
    "name": "ipython",
    "version": 3
   },
   "file_extension": ".py",
   "mimetype": "text/x-python",
   "name": "python",
   "nbconvert_exporter": "python",
   "pygments_lexer": "ipython3",
   "version": "3.7.7"
  }
 },
 "nbformat": 4,
 "nbformat_minor": 1
}
